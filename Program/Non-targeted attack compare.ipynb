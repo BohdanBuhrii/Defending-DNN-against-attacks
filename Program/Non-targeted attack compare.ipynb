{
 "cells": [
  {
   "cell_type": "code",
   "execution_count": 1,
   "metadata": {},
   "outputs": [],
   "source": [
    "import numpy as np\n",
    "from numpy.linalg import norm\n",
    "import pandas as pd\n",
    "from sklearn.model_selection import train_test_split\n",
    "from mpl_toolkits.mplot3d import Axes3D\n",
    "import matplotlib.pyplot as plt\n",
    "\n",
    "from matplotlib.colors import ListedColormap\n",
    "%matplotlib inline\n",
    "from sklearn.metrics import accuracy_score\n",
    "from sklearn.preprocessing import OneHotEncoder\n",
    "import sklearn.linear_model\n",
    "import os.path\n",
    "\n",
    "import time\n",
    "\n",
    "from NeuralNet import NeuralNet\n",
    "from utils.json import read_from_json\n",
    "from utils.nnsetup import get_datasets\n",
    "from attacks.attacks import Attack\n",
    "\n",
    "np.random.seed(1)"
   ]
  },
  {
   "cell_type": "code",
   "execution_count": 2,
   "metadata": {},
   "outputs": [],
   "source": [
    "X_train, Y_train, Y_train_e, X_test, Y_test = get_datasets()"
   ]
  },
  {
   "cell_type": "code",
   "execution_count": 3,
   "metadata": {},
   "outputs": [],
   "source": [
    "cls = NeuralNet(layer_dims = [784, 60, 10], learning_rate = 0.1, num_iter = 300, \\\n",
    "                         normalize = False, mini_batch_size=2048)\n",
    "\n",
    "cls.parameters = read_from_json(\"nets/main_nn_300\")"
   ]
  },
  {
   "cell_type": "code",
   "execution_count": 4,
   "metadata": {},
   "outputs": [],
   "source": [
    "cls_dist = NeuralNet(layer_dims = [784, 60, 10], learning_rate = 0.1, num_iter = 300, \\\n",
    "                         normalize = False, mini_batch_size=2048)\n",
    "\n",
    "cls_dist.parameters = read_from_json(\"nets/distilled_nn_300\")"
   ]
  },
  {
   "cell_type": "code",
   "execution_count": 5,
   "metadata": {},
   "outputs": [],
   "source": [
    "def L2_norm(x, axis=0):\n",
    "  return np.sqrt(np.square(x).sum(axis=axis))"
   ]
  },
  {
   "cell_type": "code",
   "execution_count": 6,
   "metadata": {},
   "outputs": [
    {
     "name": "stdout",
     "output_type": "stream",
     "text": [
      "epsilon = 0.00392156862745098\n",
      "10 instances, 10 adversaries\n",
      "20 instances, 20 adversaries\n",
      "30 instances, 30 adversaries\n",
      "30 instances, 30 adversaries\n",
      "40 instances, 40 adversaries\n",
      "50 instances, 50 adversaries\n",
      "60 instances, 60 adversaries\n",
      "70 instances, 70 adversaries\n",
      "80 instances, 80 adversaries\n",
      "90 instances, 90 adversaries\n",
      "100 instances, 100 adversaries\n",
      "110 instances, 110 adversaries\n",
      "120 instances, 120 adversaries\n",
      "130 instances, 130 adversaries\n",
      "140 instances, 140 adversaries\n",
      "150 instances, 150 adversaries\n",
      "160 instances, 160 adversaries\n",
      "170 instances, 170 adversaries\n",
      "180 instances, 180 adversaries\n",
      "190 instances, 190 adversaries\n",
      "200 instances, 200 adversaries\n",
      "210 instances, 210 adversaries\n",
      "220 instances, 220 adversaries\n",
      "230 instances, 230 adversaries\n",
      "240 instances, 240 adversaries\n",
      "250 instances, 250 adversaries\n",
      "260 instances, 260 adversaries\n",
      "270 instances, 270 adversaries\n",
      "280 instances, 280 adversaries\n",
      "290 instances, 290 adversaries\n",
      "------------------------------ (293, 784)\n",
      "total time: 9.247447729110718\n",
      "total iter: 5694\n"
     ]
    },
    {
     "data": {
      "text/html": [
       "<div>\n",
       "<style scoped>\n",
       "    .dataframe tbody tr th:only-of-type {\n",
       "        vertical-align: middle;\n",
       "    }\n",
       "\n",
       "    .dataframe tbody tr th {\n",
       "        vertical-align: top;\n",
       "    }\n",
       "\n",
       "    .dataframe thead th {\n",
       "        text-align: right;\n",
       "    }\n",
       "</style>\n",
       "<table border=\"1\" class=\"dataframe\">\n",
       "  <thead>\n",
       "    <tr style=\"text-align: right;\">\n",
       "      <th></th>\n",
       "      <th>target</th>\n",
       "      <th>successful attempts</th>\n",
       "      <th>epsilon</th>\n",
       "    </tr>\n",
       "  </thead>\n",
       "  <tbody>\n",
       "    <tr>\n",
       "      <th>0</th>\n",
       "      <td>NaN</td>\n",
       "      <td>293.0</td>\n",
       "      <td>0.003922</td>\n",
       "    </tr>\n",
       "  </tbody>\n",
       "</table>\n",
       "</div>"
      ],
      "text/plain": [
       "   target  successful attempts   epsilon\n",
       "0     NaN                293.0  0.003922"
      ]
     },
     "execution_count": 6,
     "metadata": {},
     "output_type": "execute_result"
    }
   ],
   "source": [
    "attack_raw = Attack(cls)\n",
    "\n",
    "df = pd.DataFrame(columns = ['target','successful attempts', 'epsilon']) #'initial',\n",
    "non_targeted = pd.DataFrame(columns = ['original','prediction','iterations', 'epsilon', 'L2 norm'])\n",
    "\n",
    "X_test_c = X_test[:300].copy()\n",
    "Y_test_c = Y_test[:300].copy()\n",
    "\n",
    "Y_hat_c = cls.predict(X_test_c)\n",
    "\n",
    "\n",
    "tick = time.time()\n",
    "for epsilon in [1/255]:#, 3/255, 5/255, 10/255, 15/255, 30/255, 50/255, 80/255, 120/255]:#[1/255]:#0.007, 0.01, 0.05, 0.1, 0.2]:\n",
    "    print('epsilon =',epsilon)\n",
    "    total_attempts = 0\n",
    "    total_iter = 0\n",
    "    example = []\n",
    "    initial = []\n",
    "    true_label = []\n",
    "    adversarial = []\n",
    "    y_hat_adv = []\n",
    "    for (x, y, y_hat) in zip(X_test_c, Y_test_c, Y_hat_c):\n",
    "        x = np.array([x])\n",
    "        prediction = y_hat\n",
    "\n",
    "        if(y == y_hat):\n",
    "\n",
    "            x_adv = attack_raw.attack(x,\\\n",
    "                                      np.array([[1 if i==y else 0 for i in range(10)]]),\\\n",
    "                                      #'ADAM',\\\n",
    "                                      'FGSM',\\\n",
    "                                      #'grads',\\\n",
    "                                      10000,\\\n",
    "                                      #pretrub_importance=0.01,\\\n",
    "                                      adapting_rate=epsilon, print_cost=False, targeted=False).T[0]\n",
    "            \n",
    "            total_iter += attack_raw.iter\n",
    "\n",
    "            example.append(x_adv)\n",
    "            true_label.append([y])\n",
    "\n",
    "            total_attempts += 1\n",
    "            prediction = cls.predict(np.array([x_adv]))[0]\n",
    "            if(prediction != y):\n",
    "                initial.append(x[0])\n",
    "                adversarial.append(x_adv)\n",
    "                \n",
    "                non_targeted = non_targeted.append({'original': y[0],'prediction': prediction,\\\n",
    "                                 'iterations': attack_raw.iter, 'L2 norm': L2_norm(x[0]-x_adv),\\\n",
    "                                 'epsilon': epsilon}, ignore_index=True)\n",
    "                \n",
    "        y_hat_adv.append(prediction)\n",
    "        \n",
    "        if(total_attempts% 10 == 0): print(total_attempts,'instances,', len(adversarial), 'adversaries');\n",
    "\n",
    "    example = np.array(example)\n",
    "    initial = np.array(initial)\n",
    "    true_label = np.array(true_label)\n",
    "    adversarial = np.array(adversarial)\n",
    "    y_hat_adv = np.array(y_hat_adv)\n",
    "\n",
    "    print('------------------------------',example.shape)\n",
    "    Y_hat = cls.predict(example).reshape(true_label.shape)\n",
    "\n",
    "    #print((Y_hat == target).shape)\n",
    "    #print((Y_hat != Y_test) * (Y_hat == target) * ((cls.predict(X_test)==Y_test).reshape(Y_hat.shape)))\n",
    "\n",
    "    successful_attempts = len(adversarial)#np.sum(\n",
    "    #  (Y_hat != true_label)\n",
    "    #  * (Y_hat == target))\n",
    "      #* (true_label == cls.predict(X_test_c).reshape(true_label.shape)))\n",
    "\n",
    "    df = df.append({'successful attempts': successful_attempts, 'epsilon': epsilon}, ignore_index=True)\n",
    "\n",
    "print('total time:', time.time() - tick)\n",
    "print('total iter:', total_iter)\n",
    "df"
   ]
  },
  {
   "cell_type": "code",
   "execution_count": 7,
   "metadata": {},
   "outputs": [
    {
     "data": {
      "text/html": [
       "<div>\n",
       "<style scoped>\n",
       "    .dataframe tbody tr th:only-of-type {\n",
       "        vertical-align: middle;\n",
       "    }\n",
       "\n",
       "    .dataframe tbody tr th {\n",
       "        vertical-align: top;\n",
       "    }\n",
       "\n",
       "    .dataframe thead th {\n",
       "        text-align: right;\n",
       "    }\n",
       "</style>\n",
       "<table border=\"1\" class=\"dataframe\">\n",
       "  <thead>\n",
       "    <tr style=\"text-align: right;\">\n",
       "      <th></th>\n",
       "      <th>original</th>\n",
       "      <th>prediction</th>\n",
       "      <th>iterations</th>\n",
       "      <th>epsilon</th>\n",
       "      <th>L2 norm</th>\n",
       "    </tr>\n",
       "  </thead>\n",
       "  <tbody>\n",
       "    <tr>\n",
       "      <th>0</th>\n",
       "      <td>7.0</td>\n",
       "      <td>3.0</td>\n",
       "      <td>20.0</td>\n",
       "      <td>0.003922</td>\n",
       "      <td>1.647185</td>\n",
       "    </tr>\n",
       "    <tr>\n",
       "      <th>1</th>\n",
       "      <td>3.0</td>\n",
       "      <td>5.0</td>\n",
       "      <td>30.0</td>\n",
       "      <td>0.003922</td>\n",
       "      <td>2.385987</td>\n",
       "    </tr>\n",
       "    <tr>\n",
       "      <th>2</th>\n",
       "      <td>9.0</td>\n",
       "      <td>4.0</td>\n",
       "      <td>3.0</td>\n",
       "      <td>0.003922</td>\n",
       "      <td>0.245372</td>\n",
       "    </tr>\n",
       "    <tr>\n",
       "      <th>3</th>\n",
       "      <td>8.0</td>\n",
       "      <td>2.0</td>\n",
       "      <td>12.0</td>\n",
       "      <td>0.003922</td>\n",
       "      <td>1.027092</td>\n",
       "    </tr>\n",
       "    <tr>\n",
       "      <th>4</th>\n",
       "      <td>6.0</td>\n",
       "      <td>2.0</td>\n",
       "      <td>17.0</td>\n",
       "      <td>0.003922</td>\n",
       "      <td>1.482369</td>\n",
       "    </tr>\n",
       "  </tbody>\n",
       "</table>\n",
       "</div>"
      ],
      "text/plain": [
       "   original  prediction  iterations   epsilon   L2 norm\n",
       "0       7.0         3.0        20.0  0.003922  1.647185\n",
       "1       3.0         5.0        30.0  0.003922  2.385987\n",
       "2       9.0         4.0         3.0  0.003922  0.245372\n",
       "3       8.0         2.0        12.0  0.003922  1.027092\n",
       "4       6.0         2.0        17.0  0.003922  1.482369"
      ]
     },
     "execution_count": 7,
     "metadata": {},
     "output_type": "execute_result"
    }
   ],
   "source": [
    "non_targeted.head()"
   ]
  },
  {
   "cell_type": "code",
   "execution_count": 8,
   "metadata": {},
   "outputs": [
    {
     "data": {
      "text/plain": [
       "[<matplotlib.lines.Line2D at 0x1b14aedc7c0>]"
      ]
     },
     "execution_count": 8,
     "metadata": {},
     "output_type": "execute_result"
    },
    {
     "data": {
      "image/png": "[encoded data removed]",
      "text/plain": [
       "<Figure size 432x288 with 1 Axes>"
      ]
     },
     "metadata": {
      "needs_background": "light"
     },
     "output_type": "display_data"
    }
   ],
   "source": [
    "pretrub_by_iter = non_targeted.groupby('iterations', as_index=False)['L2 norm'].mean()\n",
    "pretrub_by_iter = pretrub_by_iter.sort_values(\"iterations\")\n",
    "\n",
    "plt.plot(pretrub_by_iter['iterations'], pretrub_by_iter['L2 norm'])"
   ]
  },
  {
   "cell_type": "code",
   "execution_count": 9,
   "metadata": {},
   "outputs": [],
   "source": [
    "accuracy_t = []\n",
    "for iter in pretrub_by_iter[\"iterations\"].values:\n",
    "    accuracy_t.append(1 - non_targeted[non_targeted[\"iterations\"]<=iter].shape[0]/total_attempts)\n",
    "    \n",
    "iterations_t = pretrub_by_iter[\"iterations\"].values"
   ]
  },
  {
   "cell_type": "code",
   "execution_count": 10,
   "metadata": {},
   "outputs": [
    {
     "data": {
      "image/png": "[encoded data removed]",
      "text/plain": [
       "<Figure size 432x288 with 1 Axes>"
      ]
     },
     "metadata": {
      "needs_background": "light"
     },
     "output_type": "display_data"
    }
   ],
   "source": [
    "FGSM_t, = plt.plot(iterations_t, accuracy_t, 'g-', label='TFGSM')"
   ]
  },
  {
   "cell_type": "code",
   "execution_count": null,
   "metadata": {},
   "outputs": [],
   "source": []
  },
  {
   "cell_type": "code",
   "execution_count": 21,
   "metadata": {},
   "outputs": [
    {
     "name": "stdout",
     "output_type": "stream",
     "text": [
      "epsilon = 0.00392156862745098\n",
      "------------------------------ (9, 784)\n",
      "total time: 0.26659655570983887\n",
      "total iter: 167\n"
     ]
    },
    {
     "data": {
      "text/html": [
       "<div>\n",
       "<style scoped>\n",
       "    .dataframe tbody tr th:only-of-type {\n",
       "        vertical-align: middle;\n",
       "    }\n",
       "\n",
       "    .dataframe tbody tr th {\n",
       "        vertical-align: top;\n",
       "    }\n",
       "\n",
       "    .dataframe thead th {\n",
       "        text-align: right;\n",
       "    }\n",
       "</style>\n",
       "<table border=\"1\" class=\"dataframe\">\n",
       "  <thead>\n",
       "    <tr style=\"text-align: right;\">\n",
       "      <th></th>\n",
       "      <th>target</th>\n",
       "      <th>successful attempts</th>\n",
       "      <th>epsilon</th>\n",
       "    </tr>\n",
       "  </thead>\n",
       "  <tbody>\n",
       "    <tr>\n",
       "      <th>0</th>\n",
       "      <td>NaN</td>\n",
       "      <td>8.0</td>\n",
       "      <td>0.003922</td>\n",
       "    </tr>\n",
       "  </tbody>\n",
       "</table>\n",
       "</div>"
      ],
      "text/plain": [
       "   target  successful attempts   epsilon\n",
       "0     NaN                  8.0  0.003922"
      ]
     },
     "execution_count": 21,
     "metadata": {},
     "output_type": "execute_result"
    }
   ],
   "source": [
    "attack_dist = Attack(cls_dist)\n",
    "\n",
    "df = pd.DataFrame(columns = ['target','successful attempts', 'epsilon']) #'initial',\n",
    "non_targeted_dist = pd.DataFrame(columns = ['original','prediction','iterations', 'epsilon', 'L2 norm'])\n",
    "\n",
    "X_test_c = X_test[:300].copy()\n",
    "Y_test_c = Y_test[:300].copy()\n",
    "\n",
    "Y_hat_c = cls.predict(X_test_c)\n",
    "\n",
    "\n",
    "tick = time.time()\n",
    "for epsilon in [1/255]:#, 3/255, 5/255, 10/255, 15/255, 30/255, 50/255, 80/255, 120/255]:#[1/255]:#0.007, 0.01, 0.05, 0.1, 0.2]:\n",
    "    print('epsilon =',epsilon)\n",
    "    total_attempts = 0\n",
    "    total_iter = 0\n",
    "    example = []\n",
    "    initial = []\n",
    "    true_label = []\n",
    "    adversarial = []\n",
    "    y_hat_adv = []\n",
    "    for (x, y, y_hat) in zip(X_test_c, Y_test_c, Y_hat_c):\n",
    "        x = np.array([x])\n",
    "        prediction = y_hat\n",
    "\n",
    "        if(y == y_hat):\n",
    "\n",
    "            x_adv = attack_dist.attack(x,\\\n",
    "                                      np.array([[1 if i==y else 0 for i in range(10)]]),\\\n",
    "                                      #'ADAM',\\\n",
    "                                      'FGSM',\\\n",
    "                                      #'grads',\\\n",
    "                                      10000,\\\n",
    "                                      #pretrub_importance=0.01,\\\n",
    "                                      adapting_rate=epsilon, print_cost=False, targeted=False).T[0]\n",
    "            \n",
    "            total_iter += attack_dist.iter\n",
    "\n",
    "            example.append(x_adv)\n",
    "            true_label.append([y])\n",
    "\n",
    "            total_attempts += 1\n",
    "            prediction = cls.predict(np.array([x_adv]))[0]\n",
    "            if(prediction != y):\n",
    "                initial.append(x[0])\n",
    "                adversarial.append(x_adv)\n",
    "                \n",
    "                non_targeted_dist = non_targeted_dist.append({'original': y[0],'prediction': prediction,\\\n",
    "                                 'iterations': attack_dist.iter, 'L2 norm': L2_norm(x[0]-x_adv),\\\n",
    "                                 'epsilon': epsilon}, ignore_index=True)\n",
    "                \n",
    "        y_hat_adv.append(prediction)\n",
    "        \n",
    "        if(total_attempts% 10 == 0): print(total_attempts,'instances,', len(adversarial), 'adversaries');\n",
    "\n",
    "    example = np.array(example)\n",
    "    initial = np.array(initial)\n",
    "    true_label = np.array(true_label)\n",
    "    adversarial = np.array(adversarial)\n",
    "    y_hat_adv = np.array(y_hat_adv)\n",
    "\n",
    "    print('------------------------------',example.shape)\n",
    "    Y_hat = cls.predict(example).reshape(true_label.shape)\n",
    "\n",
    "    #print((Y_hat == target).shape)\n",
    "    #print((Y_hat != Y_test) * (Y_hat == target) * ((cls.predict(X_test)==Y_test).reshape(Y_hat.shape)))\n",
    "\n",
    "    successful_attempts = len(adversarial)#np.sum(\n",
    "    #  (Y_hat != true_label)\n",
    "    #  * (Y_hat == target))\n",
    "      #* (true_label == cls.predict(X_test_c).reshape(true_label.shape)))\n",
    "\n",
    "    df = df.append({'successful attempts': successful_attempts, 'epsilon': epsilon}, ignore_index=True)\n",
    "\n",
    "print('total time:', time.time() - tick)\n",
    "print('total iter:', total_iter)\n",
    "df"
   ]
  },
  {
   "cell_type": "code",
   "execution_count": 31,
   "metadata": {},
   "outputs": [],
   "source": [
    "x_adv = attack_dist.attack(X_test[9:10],\\\n",
    "                                      np.array([[1 if i==y else 0 for i in range(10)]]),\\\n",
    "                                      #'ADAM',\\\n",
    "                                      'FGSM',\\\n",
    "                                      #'grads',\\\n",
    "                                      10000,\\\n",
    "                                      #pretrub_importance=0.01,\\\n",
    "                                      adapting_rate=epsilon, print_cost=False, targeted=False).T[0]"
   ]
  },
  {
   "cell_type": "code",
   "execution_count": 32,
   "metadata": {},
   "outputs": [
    {
     "data": {
      "text/plain": [
       "0"
      ]
     },
     "execution_count": 32,
     "metadata": {},
     "output_type": "execute_result"
    }
   ],
   "source": [
    "attack_dist.iter"
   ]
  },
  {
   "cell_type": "code",
   "execution_count": 33,
   "metadata": {},
   "outputs": [
    {
     "data": {
      "text/plain": [
       "(784,)"
      ]
     },
     "execution_count": 33,
     "metadata": {},
     "output_type": "execute_result"
    }
   ],
   "source": [
    "x_adv.shape"
   ]
  },
  {
   "cell_type": "code",
   "execution_count": 34,
   "metadata": {},
   "outputs": [
    {
     "data": {
      "text/plain": [
       "array([4], dtype=int64)"
      ]
     },
     "execution_count": 34,
     "metadata": {},
     "output_type": "execute_result"
    }
   ],
   "source": [
    "cls_dist.predict(X_test[8:9])"
   ]
  },
  {
   "cell_type": "code",
   "execution_count": 35,
   "metadata": {},
   "outputs": [
    {
     "data": {
      "text/plain": [
       "array([6], dtype=int64)"
      ]
     },
     "execution_count": 35,
     "metadata": {},
     "output_type": "execute_result"
    }
   ],
   "source": [
    "cls_dist.predict(np.array([x_adv.T]))"
   ]
  },
  {
   "cell_type": "code",
   "execution_count": 18,
   "metadata": {},
   "outputs": [
    {
     "data": {
      "text/plain": [
       "array([False, False, False, False, False, False, False, False, False])"
      ]
     },
     "execution_count": 18,
     "metadata": {},
     "output_type": "execute_result"
    }
   ],
   "source": [
    "cls_dist.predict(initial) == cls_dist.predict(adversarial)"
   ]
  },
  {
   "cell_type": "code",
   "execution_count": 12,
   "metadata": {},
   "outputs": [
    {
     "data": {
      "text/plain": [
       "[<matplotlib.lines.Line2D at 0x1b105c9ba00>]"
      ]
     },
     "execution_count": 12,
     "metadata": {},
     "output_type": "execute_result"
    },
    {
     "data": {
      "image/png": "[encoded data removed]",
      "text/plain": [
       "<Figure size 432x288 with 1 Axes>"
      ]
     },
     "metadata": {
      "needs_background": "light"
     },
     "output_type": "display_data"
    }
   ],
   "source": [
    "pretrub_by_iter = non_targeted_dist.groupby('iterations', as_index=False)['L2 norm'].mean()\n",
    "pretrub_by_iter = pretrub_by_iter.sort_values(\"iterations\")\n",
    "\n",
    "plt.plot(pretrub_by_iter['iterations'], pretrub_by_iter['L2 norm'])"
   ]
  },
  {
   "cell_type": "code",
   "execution_count": 13,
   "metadata": {},
   "outputs": [],
   "source": [
    "accuracy_t_dist = []\n",
    "for iter in pretrub_by_iter[\"iterations\"].values:\n",
    "    accuracy_t_dist.append(1 - non_targeted_dist[non_targeted_dist[\"iterations\"]<=iter].shape[0]/total_attempts)\n",
    "    \n",
    "iterations_t_dist = pretrub_by_iter[\"iterations\"].values"
   ]
  },
  {
   "cell_type": "code",
   "execution_count": 38,
   "metadata": {},
   "outputs": [
    {
     "data": {
      "text/plain": [
       "52.0"
      ]
     },
     "execution_count": 38,
     "metadata": {},
     "output_type": "execute_result"
    }
   ],
   "source": [
    "iter"
   ]
  },
  {
   "cell_type": "code",
   "execution_count": 14,
   "metadata": {},
   "outputs": [
    {
     "data": {
      "image/png": "[encoded data removed]",
      "text/plain": [
       "<Figure size 432x288 with 1 Axes>"
      ]
     },
     "metadata": {
      "needs_background": "light"
     },
     "output_type": "display_data"
    }
   ],
   "source": [
    "FGSM_t, = plt.plot(iterations_t_dist, accuracy_t_dist, 'g-', label='TFGSM')"
   ]
  },
  {
   "cell_type": "code",
   "execution_count": 15,
   "metadata": {},
   "outputs": [
    {
     "data": {
      "image/png": "[encoded data removed]",
      "text/plain": [
       "<Figure size 432x288 with 1 Axes>"
      ]
     },
     "metadata": {
      "needs_background": "light"
     },
     "output_type": "display_data"
    }
   ],
   "source": [
    "plt.plot(iterations_t, accuracy_t, label='without defence')\n",
    "plt.plot(iterations_t_dist, accuracy_t_dist, label='distilled')\n",
    "plt.legend()\n",
    "plt.show()"
   ]
  },
  {
   "cell_type": "markdown",
   "metadata": {},
   "source": [
    "Something wrong. Probably algorithm stop condition is uncorrect. Also will be nice to extract samples with initially incorrect classification."
   ]
  },
  {
   "cell_type": "code",
   "execution_count": 36,
   "metadata": {},
   "outputs": [
    {
     "name": "stdout",
     "output_type": "stream",
     "text": [
      "0.9714583333333333\n",
      "0.9571428571428572\n"
     ]
    }
   ],
   "source": [
    "Y_train_hat = cls.predict(X_train)\n",
    "Y_test_hat = cls.predict(X_test)\n",
    "\n",
    "print(accuracy_score(Y_train, Y_train_hat))\n",
    "print(accuracy_score(Y_test, Y_test_hat))"
   ]
  },
  {
   "cell_type": "code",
   "execution_count": 37,
   "metadata": {},
   "outputs": [
    {
     "name": "stdout",
     "output_type": "stream",
     "text": [
      "0.9462202380952381\n",
      "0.9396428571428571\n"
     ]
    }
   ],
   "source": [
    "Y_train_hat = cls_dist.predict(X_train)\n",
    "Y_test_hat = cls_dist.predict(X_test)\n",
    "\n",
    "print(accuracy_score(Y_train, Y_train_hat))\n",
    "print(accuracy_score(Y_test, Y_test_hat))"
   ]
  },
  {
   "cell_type": "code",
   "execution_count": null,
   "metadata": {},
   "outputs": [],
   "source": []
  }
 ],
 "metadata": {
  "kernelspec": {
   "display_name": "Python 3",
   "language": "python",
   "name": "python3"
  },
  "language_info": {
   "codemirror_mode": {
    "name": "ipython",
    "version": 3
   },
   "file_extension": ".py",
   "mimetype": "text/x-python",
   "name": "python",
   "nbconvert_exporter": "python",
   "pygments_lexer": "ipython3",
   "version": "3.8.2"
  }
 },
 "nbformat": 4,
 "nbformat_minor": 4
}
