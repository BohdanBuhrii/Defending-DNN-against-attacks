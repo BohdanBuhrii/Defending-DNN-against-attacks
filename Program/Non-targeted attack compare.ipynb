{
 "cells": [
  {
   "cell_type": "code",
   "execution_count": 1,
   "metadata": {},
   "outputs": [],
   "source": [
    "import numpy as np\n",
    "from numpy.linalg import norm\n",
    "import pandas as pd\n",
    "from sklearn.model_selection import train_test_split\n",
    "from mpl_toolkits.mplot3d import Axes3D\n",
    "import matplotlib.pyplot as plt\n",
    "\n",
    "from matplotlib.colors import ListedColormap\n",
    "%matplotlib inline\n",
    "from sklearn.metrics import accuracy_score\n",
    "from sklearn.preprocessing import OneHotEncoder\n",
    "import sklearn.linear_model\n",
    "import os.path\n",
    "\n",
    "import time\n",
    "\n",
    "from NeuralNet import NeuralNet\n",
    "from utils.json import read_from_json\n",
    "from utils.nnsetup import *\n",
    "from utils.attackperformance import *\n",
    "from attacks.attacks import Attack\n",
    "\n",
    "np.random.seed(1)"
   ]
  },
  {
   "cell_type": "code",
   "execution_count": 2,
   "metadata": {},
   "outputs": [],
   "source": [
    "X_train, Y_train, Y_train_e, X_test, Y_test = get_datasets()"
   ]
  },
  {
   "cell_type": "code",
   "execution_count": 3,
   "metadata": {},
   "outputs": [],
   "source": [
    "X_test_c = X_test[:10000].copy()\n",
    "Y_test_c = Y_test[:10000].copy()"
   ]
  },
  {
   "cell_type": "code",
   "execution_count": null,
   "metadata": {},
   "outputs": [],
   "source": [
    "test_epsilon = [1/255]\n",
    "ignore_not_adversarial = True\n",
    "#test_epsilon = [1/255, 3/255, 5/255, 10/255, 15/255, 30/255, 50/255, 80/255, 120/255]"
   ]
  },
  {
   "cell_type": "code",
   "execution_count": null,
   "metadata": {
    "scrolled": true
   },
   "outputs": [],
   "source": [
    "cls = getNN(\"nets/main_nn_300\", 1, None, None)\n",
    "\n",
    "\n",
    "df, insights, initial, adversarial = get_insights(cls, test_epsilon, X_test_c, Y_test_c,\n",
    "                                                  ignore_not_adversarial=ignore_not_adversarial)\n",
    "df"
   ]
  },
  {
   "cell_type": "code",
   "execution_count": null,
   "metadata": {},
   "outputs": [],
   "source": [
    "insights.head()"
   ]
  },
  {
   "cell_type": "code",
   "execution_count": null,
   "metadata": {
    "scrolled": true
   },
   "outputs": [],
   "source": [
    "cls_dist = getNN(\"nets/distilled_nn_100_T_7\", 1, None, None)\n",
    "#cls_dist_T_5 = getNN(\"nets/distilled_nn_300_T_5\", 1, None, None)\n",
    "#cls_dist_T_10 = getNN(\"nets/distilled_nn_300_T_5_f\", 1, None, None)\n",
    "\n",
    "df_dist, insights_dist, initial_dist, adversarial_dist = get_insights(cls_dist, test_epsilon, X_test_c, Y_test_c,\n",
    "                                                                      ignore_not_adversarial=ignore_not_adversarial)\n",
    "df_dist"
   ]
  },
  {
   "cell_type": "code",
   "execution_count": null,
   "metadata": {},
   "outputs": [],
   "source": [
    "insights_dist.head()"
   ]
  },
  {
   "cell_type": "code",
   "execution_count": null,
   "metadata": {},
   "outputs": [],
   "source": [
    "n_iter = max(max(insights['iterations']), max(insights_dist['iterations']))\n",
    "iterations = np.arange(n_iter)\n",
    "n_iter"
   ]
  },
  {
   "cell_type": "code",
   "execution_count": null,
   "metadata": {},
   "outputs": [],
   "source": [
    "accuracy = []\n",
    "accuracy_dist = []\n",
    "for i in iterations:\n",
    "  accuracy.append(1 - sum(insights['iterations']<=i)/insights.shape[0])\n",
    "  accuracy_dist.append(1 - sum(insights_dist['iterations']<=i)/insights_dist.shape[0])"
   ]
  },
  {
   "cell_type": "code",
   "execution_count": null,
   "metadata": {
    "scrolled": true
   },
   "outputs": [],
   "source": [
    "distance = []\n",
    "distance_dist = []\n",
    "ticks = np.linspace(np.min(insights['L2 norm']), np.max(insights['L2 norm']), 100)\n",
    "for i in ticks:\n",
    "  distance.append(1 - sum(insights['L2 norm']<=i)/insights.shape[0])\n",
    "  distance_dist.append(1 - sum(insights_dist['L2 norm']<=i)/insights_dist.shape[0])"
   ]
  },
  {
   "cell_type": "code",
   "execution_count": null,
   "metadata": {},
   "outputs": [],
   "source": [
    "def set_axis(ax):\n",
    "  ax.set_axisbelow(True)\n",
    "  ax.grid()\n",
    "  ax.legend()\n",
    "\n",
    "\n",
    "fig, (ax1, ax2) = plt.subplots(1, 2, figsize = (15, 6))\n",
    "#fig.suptitle('Дистилякія при T=7')\n",
    "\n",
    "ax1.plot(iterations, accuracy, label='Прообраз')\n",
    "ax1.plot(iterations, accuracy_dist, label='Дистильована модель')\n",
    "ax1.set_xlabel('Кількість ітерацій атаки')\n",
    "ax1.set_ylabel('Точність')\n",
    "set_axis(ax1)\n",
    "\n",
    "ax2.plot(ticks, distance, label='Прообраз')\n",
    "ax2.plot(ticks, distance_dist, label='Дистильована модель')\n",
    "ax2.set_xlabel('Розмір шуму, $L_2$')\n",
    "set_axis(ax2)\n",
    "\n",
    "plt.savefig(\"images/distAdvT7.pdf\", bbox_inches = 'tight', pad_inches = 0)"
   ]
  },
  {
   "cell_type": "code",
   "execution_count": null,
   "metadata": {},
   "outputs": [],
   "source": [
    "r_o =  robustness(initial, adversarial)\n",
    "r_d_7 = robustness(initial_dist, adversarial_dist)\n",
    "print('original', r_o)\n",
    "print('defended', r_d_7)"
   ]
  },
  {
   "cell_type": "code",
   "execution_count": null,
   "metadata": {},
   "outputs": [],
   "source": [
    "(r_d_7 - r_o)/r_o"
   ]
  },
  {
   "cell_type": "code",
   "execution_count": null,
   "metadata": {},
   "outputs": [],
   "source": [
    "x_T = [1, 2, 7, 10, 20, 30, 40]\n",
    "y_o = [0.5394695727113946 for _ in x_T]\n",
    "y_r_d = [0.6125116365761678, 0.6150069675061154, 0.6383067947416767, 0.6408441519464926, 0.638219608438047, 0.6046881289549533, 0.5591443923632143]\n",
    "y_r_d_p = [0.13539607710896648, 0.14002160384146772, 0.18321185666417195, 0.18791528635356664, 0.18305024179645754, 0.12089385489485108, 0.036470675357895214]"
   ]
  },
  {
   "cell_type": "code",
   "execution_count": null,
   "metadata": {},
   "outputs": [],
   "source": [
    "fig = plt.figure(figsize=(10,5))\n",
    "ax1 = fig.add_subplot(111)\n",
    "\n",
    "set_axis(ax1)\n",
    "\n",
    "ax1.plot(x_T, y_r_d, 'o-.', label='Стійкість')\n",
    "ax1.plot(x_T, y_o, 'r--', label='Оригінальна стійкість')\n",
    "\n",
    "ax1.set_ylabel('Метрика стійкості, $r_p(M)$')\n",
    "ax1.set_xlabel('Температура дистиляції, $T$')\n",
    "ax1.legend()\n",
    "\n",
    "plt.savefig(\"images/robustness.pdf\", bbox_inches = 'tight', pad_inches = 0)\n",
    "#plt.title('Accuracy score breakdown')"
   ]
  },
  {
   "cell_type": "code",
   "execution_count": null,
   "metadata": {},
   "outputs": [],
   "source": [
    "#plt.savefig('images/accuracy_T_10.png')"
   ]
  },
  {
   "cell_type": "code",
   "execution_count": null,
   "metadata": {},
   "outputs": [],
   "source": [
    "# accuracy = []\n",
    "# accuracy_dist = []\n",
    "# for e in epsilons:\n",
    "#   accuracy.append(1 - sum(insights['epsilon']==e)/Y_test_c.shape[0])\n",
    "#   accuracy_dist.append(1 - sum(insights_dist['epsilon']==e)/Y_test_c.shape[0])\n",
    "  \n",
    "plt.plot(test_epsilon, 1 - df['successful attempts']/300, label='without defence')\n",
    "plt.plot(test_epsilon, 1 - df_dist['successful attempts']/300, label='distilled')\n",
    "plt.legend()\n",
    "plt.show()"
   ]
  },
  {
   "cell_type": "code",
   "execution_count": null,
   "metadata": {},
   "outputs": [],
   "source": [
    "Y_train_hat = cls.predict(X_train)\n",
    "Y_test_hat = cls.predict(X_test)\n",
    "\n",
    "print(accuracy_score(Y_train, Y_train_hat))\n",
    "print(accuracy_score(Y_test, Y_test_hat))"
   ]
  },
  {
   "cell_type": "code",
   "execution_count": 7,
   "metadata": {},
   "outputs": [
    {
     "name": "stdout",
     "output_type": "stream",
     "text": [
      "0.922172619047619\n",
      "0.919047619047619\n"
     ]
    }
   ],
   "source": [
    "cls_dist = getNN(\"nets/distilled_nn_100_T_2\", 1, None, None)\n",
    "\n",
    "Y_train_hat = cls_dist.predict(X_train)\n",
    "Y_test_hat = cls_dist.predict(X_test)\n",
    "\n",
    "print(accuracy_score(Y_train, Y_train_hat))\n",
    "print(accuracy_score(Y_test, Y_test_hat))"
   ]
  },
  {
   "cell_type": "code",
   "execution_count": null,
   "metadata": {},
   "outputs": [],
   "source": []
  },
  {
   "cell_type": "code",
   "execution_count": null,
   "metadata": {},
   "outputs": [],
   "source": [
    "# pretrub_by_iter = non_targeted.groupby('iterations', as_index=False)['L2 norm'].mean()\n",
    "# pretrub_by_iter = pretrub_by_iter.sort_values(\"iterations\")\n",
    "\n",
    "# plt.plot(pretrub_by_iter['iterations'], pretrub_by_iter['L2 norm'])"
   ]
  },
  {
   "cell_type": "code",
   "execution_count": null,
   "metadata": {},
   "outputs": [],
   "source": [
    "# accuracy_t = []\n",
    "# for iter in pretrub_by_iter[\"iterations\"].values:\n",
    "#     accuracy_t.append(1 - non_targeted[non_targeted[\"iterations\"]<=iter].shape[0]/total_attempts)\n",
    "    \n",
    "# iterations_t = pretrub_by_iter[\"iterations\"].values"
   ]
  },
  {
   "cell_type": "code",
   "execution_count": null,
   "metadata": {},
   "outputs": [],
   "source": [
    "# FGSM_t, = plt.plot(iterations_t, accuracy_t, 'g-', label='TFGSM')"
   ]
  },
  {
   "cell_type": "code",
   "execution_count": null,
   "metadata": {},
   "outputs": [],
   "source": [
    "def L2_norm(x, axis=0):\n",
    "  return np.sqrt(np.square(x).sum(axis=axis))"
   ]
  },
  {
   "cell_type": "code",
   "execution_count": null,
   "metadata": {},
   "outputs": [],
   "source": []
  },
  {
   "cell_type": "code",
   "execution_count": null,
   "metadata": {},
   "outputs": [],
   "source": []
  }
 ],
 "metadata": {
  "kernelspec": {
   "display_name": "Python 3",
   "language": "python",
   "name": "python3"
  },
  "language_info": {
   "codemirror_mode": {
    "name": "ipython",
    "version": 3
   },
   "file_extension": ".py",
   "mimetype": "text/x-python",
   "name": "python",
   "nbconvert_exporter": "python",
   "pygments_lexer": "ipython3",
   "version": "3.8.2"
  }
 },
 "nbformat": 4,
 "nbformat_minor": 4
}
