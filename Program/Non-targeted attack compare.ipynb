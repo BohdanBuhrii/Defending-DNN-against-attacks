{
 "cells": [
  {
   "cell_type": "code",
   "execution_count": 2,
   "metadata": {},
   "outputs": [],
   "source": [
    "import numpy as np\n",
    "from numpy.linalg import norm\n",
    "import pandas as pd\n",
    "from sklearn.model_selection import train_test_split\n",
    "from mpl_toolkits.mplot3d import Axes3D\n",
    "import matplotlib.pyplot as plt\n",
    "\n",
    "from matplotlib.colors import ListedColormap\n",
    "%matplotlib inline\n",
    "from sklearn.metrics import accuracy_score\n",
    "from sklearn.preprocessing import OneHotEncoder\n",
    "import sklearn.linear_model\n",
    "import os.path\n",
    "\n",
    "import time\n",
    "\n",
    "from NeuralNet import NeuralNet\n",
    "from utils.json import read_from_json\n",
    "from utils.nnsetup import *\n",
    "from utils.attackperformance import *\n",
    "from attacks.attacks import Attack\n",
    "\n",
    "np.random.seed(1)"
   ]
  },
  {
   "cell_type": "code",
   "execution_count": 3,
   "metadata": {},
   "outputs": [],
   "source": [
    "X_train, Y_train, Y_train_e, X_test, Y_test = get_datasets()"
   ]
  },
  {
   "cell_type": "code",
   "execution_count": 4,
   "metadata": {},
   "outputs": [],
   "source": [
    "cls = getNN(\"nets/main_nn_300\")"
   ]
  },
  {
   "cell_type": "code",
   "execution_count": 5,
   "metadata": {},
   "outputs": [],
   "source": [
    "cls_dist = getNN(\"nets/distilled_nn_300\")\n",
    "cls_dist_T_10 = getNN(\"nets/distilled_nn_300_T_50\", T=50)"
   ]
  },
  {
   "cell_type": "code",
   "execution_count": 6,
   "metadata": {},
   "outputs": [],
   "source": [
    "X_test_c = X_test[:300].copy()\n",
    "Y_test_c = Y_test[:300].copy()"
   ]
  },
  {
   "cell_type": "code",
   "execution_count": 7,
   "metadata": {},
   "outputs": [],
   "source": [
    "test_epsilon = [1/255]\n",
    "#test_epsilon = [1/255, 3/255, 5/255, 10/255, 15/255, 30/255, 50/255, 80/255, 120/255]"
   ]
  },
  {
   "cell_type": "code",
   "execution_count": 8,
   "metadata": {},
   "outputs": [
    {
     "name": "stdout",
     "output_type": "stream",
     "text": [
      "epsilon = 0.00392156862745098\n",
      "100 instances, 100 adversaries\n",
      "200 instances, 200 adversaries\n",
      "300 instances, 300 adversaries\n",
      "------------------------------\n",
      "total time: 9.659022092819214\n",
      "total iter: 5694\n"
     ]
    },
    {
     "data": {
      "text/html": [
       "<div>\n",
       "<style scoped>\n",
       "    .dataframe tbody tr th:only-of-type {\n",
       "        vertical-align: middle;\n",
       "    }\n",
       "\n",
       "    .dataframe tbody tr th {\n",
       "        vertical-align: top;\n",
       "    }\n",
       "\n",
       "    .dataframe thead th {\n",
       "        text-align: right;\n",
       "    }\n",
       "</style>\n",
       "<table border=\"1\" class=\"dataframe\">\n",
       "  <thead>\n",
       "    <tr style=\"text-align: right;\">\n",
       "      <th></th>\n",
       "      <th>target</th>\n",
       "      <th>successful attempts</th>\n",
       "      <th>epsilon</th>\n",
       "    </tr>\n",
       "  </thead>\n",
       "  <tbody>\n",
       "    <tr>\n",
       "      <th>0</th>\n",
       "      <td>NaN</td>\n",
       "      <td>300.0</td>\n",
       "      <td>0.003922</td>\n",
       "    </tr>\n",
       "  </tbody>\n",
       "</table>\n",
       "</div>"
      ],
      "text/plain": [
       "   target  successful attempts   epsilon\n",
       "0     NaN                300.0  0.003922"
      ]
     },
     "execution_count": 8,
     "metadata": {},
     "output_type": "execute_result"
    }
   ],
   "source": [
    "df, insights = get_insights(cls, test_epsilon, X_test_c, Y_test_c)\n",
    "df"
   ]
  },
  {
   "cell_type": "code",
   "execution_count": 9,
   "metadata": {},
   "outputs": [
    {
     "data": {
      "text/html": [
       "<div>\n",
       "<style scoped>\n",
       "    .dataframe tbody tr th:only-of-type {\n",
       "        vertical-align: middle;\n",
       "    }\n",
       "\n",
       "    .dataframe tbody tr th {\n",
       "        vertical-align: top;\n",
       "    }\n",
       "\n",
       "    .dataframe thead th {\n",
       "        text-align: right;\n",
       "    }\n",
       "</style>\n",
       "<table border=\"1\" class=\"dataframe\">\n",
       "  <thead>\n",
       "    <tr style=\"text-align: right;\">\n",
       "      <th></th>\n",
       "      <th>original</th>\n",
       "      <th>prediction</th>\n",
       "      <th>iterations</th>\n",
       "      <th>epsilon</th>\n",
       "      <th>L2 norm</th>\n",
       "    </tr>\n",
       "  </thead>\n",
       "  <tbody>\n",
       "    <tr>\n",
       "      <th>0</th>\n",
       "      <td>7.0</td>\n",
       "      <td>3.0</td>\n",
       "      <td>20.0</td>\n",
       "      <td>0.003922</td>\n",
       "      <td>1.647185</td>\n",
       "    </tr>\n",
       "    <tr>\n",
       "      <th>1</th>\n",
       "      <td>3.0</td>\n",
       "      <td>5.0</td>\n",
       "      <td>30.0</td>\n",
       "      <td>0.003922</td>\n",
       "      <td>2.385987</td>\n",
       "    </tr>\n",
       "    <tr>\n",
       "      <th>2</th>\n",
       "      <td>9.0</td>\n",
       "      <td>4.0</td>\n",
       "      <td>3.0</td>\n",
       "      <td>0.003922</td>\n",
       "      <td>0.245372</td>\n",
       "    </tr>\n",
       "    <tr>\n",
       "      <th>3</th>\n",
       "      <td>8.0</td>\n",
       "      <td>2.0</td>\n",
       "      <td>12.0</td>\n",
       "      <td>0.003922</td>\n",
       "      <td>1.027092</td>\n",
       "    </tr>\n",
       "    <tr>\n",
       "      <th>4</th>\n",
       "      <td>6.0</td>\n",
       "      <td>2.0</td>\n",
       "      <td>17.0</td>\n",
       "      <td>0.003922</td>\n",
       "      <td>1.482369</td>\n",
       "    </tr>\n",
       "  </tbody>\n",
       "</table>\n",
       "</div>"
      ],
      "text/plain": [
       "   original  prediction  iterations   epsilon   L2 norm\n",
       "0       7.0         3.0        20.0  0.003922  1.647185\n",
       "1       3.0         5.0        30.0  0.003922  2.385987\n",
       "2       9.0         4.0         3.0  0.003922  0.245372\n",
       "3       8.0         2.0        12.0  0.003922  1.027092\n",
       "4       6.0         2.0        17.0  0.003922  1.482369"
      ]
     },
     "execution_count": 9,
     "metadata": {},
     "output_type": "execute_result"
    }
   ],
   "source": [
    "insights.head()"
   ]
  },
  {
   "cell_type": "code",
   "execution_count": 10,
   "metadata": {
    "scrolled": true
   },
   "outputs": [
    {
     "name": "stdout",
     "output_type": "stream",
     "text": [
      "epsilon = 0.00392156862745098\n",
      "100 instances, 100 adversaries\n",
      "200 instances, 200 adversaries\n",
      "300 instances, 300 adversaries\n",
      "------------------------------\n",
      "total time: 10.215469121932983\n",
      "total iter: 6007\n"
     ]
    },
    {
     "data": {
      "text/html": [
       "<div>\n",
       "<style scoped>\n",
       "    .dataframe tbody tr th:only-of-type {\n",
       "        vertical-align: middle;\n",
       "    }\n",
       "\n",
       "    .dataframe tbody tr th {\n",
       "        vertical-align: top;\n",
       "    }\n",
       "\n",
       "    .dataframe thead th {\n",
       "        text-align: right;\n",
       "    }\n",
       "</style>\n",
       "<table border=\"1\" class=\"dataframe\">\n",
       "  <thead>\n",
       "    <tr style=\"text-align: right;\">\n",
       "      <th></th>\n",
       "      <th>target</th>\n",
       "      <th>successful attempts</th>\n",
       "      <th>epsilon</th>\n",
       "    </tr>\n",
       "  </thead>\n",
       "  <tbody>\n",
       "    <tr>\n",
       "      <th>0</th>\n",
       "      <td>NaN</td>\n",
       "      <td>300.0</td>\n",
       "      <td>0.003922</td>\n",
       "    </tr>\n",
       "  </tbody>\n",
       "</table>\n",
       "</div>"
      ],
      "text/plain": [
       "   target  successful attempts   epsilon\n",
       "0     NaN                300.0  0.003922"
      ]
     },
     "execution_count": 10,
     "metadata": {},
     "output_type": "execute_result"
    }
   ],
   "source": [
    "df_dist, insights_dist = get_insights(cls_dist, test_epsilon, X_test_c, Y_test_c)\n",
    "df_dist"
   ]
  },
  {
   "cell_type": "code",
   "execution_count": 11,
   "metadata": {},
   "outputs": [
    {
     "data": {
      "text/html": [
       "<div>\n",
       "<style scoped>\n",
       "    .dataframe tbody tr th:only-of-type {\n",
       "        vertical-align: middle;\n",
       "    }\n",
       "\n",
       "    .dataframe tbody tr th {\n",
       "        vertical-align: top;\n",
       "    }\n",
       "\n",
       "    .dataframe thead th {\n",
       "        text-align: right;\n",
       "    }\n",
       "</style>\n",
       "<table border=\"1\" class=\"dataframe\">\n",
       "  <thead>\n",
       "    <tr style=\"text-align: right;\">\n",
       "      <th></th>\n",
       "      <th>original</th>\n",
       "      <th>prediction</th>\n",
       "      <th>iterations</th>\n",
       "      <th>epsilon</th>\n",
       "      <th>L2 norm</th>\n",
       "    </tr>\n",
       "  </thead>\n",
       "  <tbody>\n",
       "    <tr>\n",
       "      <th>0</th>\n",
       "      <td>7.0</td>\n",
       "      <td>2.0</td>\n",
       "      <td>24.0</td>\n",
       "      <td>0.003922</td>\n",
       "      <td>1.959470</td>\n",
       "    </tr>\n",
       "    <tr>\n",
       "      <th>1</th>\n",
       "      <td>3.0</td>\n",
       "      <td>5.0</td>\n",
       "      <td>40.0</td>\n",
       "      <td>0.003922</td>\n",
       "      <td>3.163391</td>\n",
       "    </tr>\n",
       "    <tr>\n",
       "      <th>2</th>\n",
       "      <td>9.0</td>\n",
       "      <td>4.0</td>\n",
       "      <td>3.0</td>\n",
       "      <td>0.003922</td>\n",
       "      <td>0.249166</td>\n",
       "    </tr>\n",
       "    <tr>\n",
       "      <th>3</th>\n",
       "      <td>8.0</td>\n",
       "      <td>2.0</td>\n",
       "      <td>14.0</td>\n",
       "      <td>0.003922</td>\n",
       "      <td>1.201127</td>\n",
       "    </tr>\n",
       "    <tr>\n",
       "      <th>4</th>\n",
       "      <td>6.0</td>\n",
       "      <td>2.0</td>\n",
       "      <td>18.0</td>\n",
       "      <td>0.003922</td>\n",
       "      <td>1.578893</td>\n",
       "    </tr>\n",
       "  </tbody>\n",
       "</table>\n",
       "</div>"
      ],
      "text/plain": [
       "   original  prediction  iterations   epsilon   L2 norm\n",
       "0       7.0         2.0        24.0  0.003922  1.959470\n",
       "1       3.0         5.0        40.0  0.003922  3.163391\n",
       "2       9.0         4.0         3.0  0.003922  0.249166\n",
       "3       8.0         2.0        14.0  0.003922  1.201127\n",
       "4       6.0         2.0        18.0  0.003922  1.578893"
      ]
     },
     "execution_count": 11,
     "metadata": {},
     "output_type": "execute_result"
    }
   ],
   "source": [
    "insights_dist.head()"
   ]
  },
  {
   "cell_type": "code",
   "execution_count": 12,
   "metadata": {},
   "outputs": [
    {
     "data": {
      "text/plain": [
       "65.0"
      ]
     },
     "execution_count": 12,
     "metadata": {},
     "output_type": "execute_result"
    }
   ],
   "source": [
    "n_iter = max(max(insights['iterations']), max(insights_dist['iterations']))\n",
    "iterations = np.arange(n_iter)\n",
    "n_iter"
   ]
  },
  {
   "cell_type": "code",
   "execution_count": 13,
   "metadata": {},
   "outputs": [
    {
     "data": {
      "image/png": "[encoded data removed]",
      "text/plain": [
       "<Figure size 432x288 with 1 Axes>"
      ]
     },
     "metadata": {
      "needs_background": "light"
     },
     "output_type": "display_data"
    }
   ],
   "source": [
    "\n",
    "\n",
    "accuracy = []\n",
    "accuracy_dist = []\n",
    "for i in iterations:\n",
    "  accuracy.append(1 - sum(insights['iterations']<=i)/Y_test_c.shape[0])\n",
    "  accuracy_dist.append(1 - sum(insights_dist['iterations']<=i)/Y_test_c.shape[0])\n",
    "  \n",
    "plt.plot(iterations, accuracy, label='without defence')\n",
    "plt.plot(iterations, accuracy_dist, label='distilled')\n",
    "plt.savefig('images/accuracy_T_10.png')\n",
    "plt.legend()\n",
    "plt.show()"
   ]
  },
  {
   "cell_type": "code",
   "execution_count": 29,
   "metadata": {},
   "outputs": [
    {
     "data": {
      "text/plain": [
       "<Figure size 432x288 with 0 Axes>"
      ]
     },
     "metadata": {},
     "output_type": "display_data"
    }
   ],
   "source": [
    "plt.savefig('images/accuracy_T_10.png')"
   ]
  },
  {
   "cell_type": "code",
   "execution_count": null,
   "metadata": {},
   "outputs": [],
   "source": [
    "# accuracy = []\n",
    "# accuracy_dist = []\n",
    "# for e in epsilons:\n",
    "#   accuracy.append(1 - sum(insights['epsilon']==e)/Y_test_c.shape[0])\n",
    "#   accuracy_dist.append(1 - sum(insights_dist['epsilon']==e)/Y_test_c.shape[0])\n",
    "  \n",
    "plt.plot(test_epsilon, 1 - df['successful attempts']/300, label='without defence')\n",
    "plt.plot(test_epsilon, 1 - df_dist['successful attempts']/300, label='distilled')\n",
    "plt.legend()\n",
    "plt.show()"
   ]
  },
  {
   "cell_type": "markdown",
   "metadata": {},
   "source": [
    "Something wrong. Probably algorithm stop condition is uncorrect. Also will be nice to extract samples with initially incorrect classification."
   ]
  },
  {
   "cell_type": "code",
   "execution_count": null,
   "metadata": {},
   "outputs": [],
   "source": [
    "Y_train_hat = cls.predict(X_train)\n",
    "Y_test_hat = cls.predict(X_test)\n",
    "\n",
    "print(accuracy_score(Y_train, Y_train_hat))\n",
    "print(accuracy_score(Y_test, Y_test_hat))"
   ]
  },
  {
   "cell_type": "code",
   "execution_count": null,
   "metadata": {},
   "outputs": [],
   "source": [
    "Y_train_hat = cls_dist.predict(X_train)\n",
    "Y_test_hat = cls_dist.predict(X_test)\n",
    "\n",
    "print(accuracy_score(Y_train, Y_train_hat))\n",
    "print(accuracy_score(Y_test, Y_test_hat))"
   ]
  },
  {
   "cell_type": "code",
   "execution_count": null,
   "metadata": {},
   "outputs": [],
   "source": []
  },
  {
   "cell_type": "code",
   "execution_count": null,
   "metadata": {},
   "outputs": [],
   "source": [
    "# pretrub_by_iter = non_targeted.groupby('iterations', as_index=False)['L2 norm'].mean()\n",
    "# pretrub_by_iter = pretrub_by_iter.sort_values(\"iterations\")\n",
    "\n",
    "# plt.plot(pretrub_by_iter['iterations'], pretrub_by_iter['L2 norm'])"
   ]
  },
  {
   "cell_type": "code",
   "execution_count": null,
   "metadata": {},
   "outputs": [],
   "source": [
    "# accuracy_t = []\n",
    "# for iter in pretrub_by_iter[\"iterations\"].values:\n",
    "#     accuracy_t.append(1 - non_targeted[non_targeted[\"iterations\"]<=iter].shape[0]/total_attempts)\n",
    "    \n",
    "# iterations_t = pretrub_by_iter[\"iterations\"].values"
   ]
  },
  {
   "cell_type": "code",
   "execution_count": null,
   "metadata": {},
   "outputs": [],
   "source": [
    "# FGSM_t, = plt.plot(iterations_t, accuracy_t, 'g-', label='TFGSM')"
   ]
  },
  {
   "cell_type": "code",
   "execution_count": null,
   "metadata": {},
   "outputs": [],
   "source": [
    "import keras"
   ]
  },
  {
   "cell_type": "code",
   "execution_count": null,
   "metadata": {},
   "outputs": [],
   "source": []
  }
 ],
 "metadata": {
  "kernelspec": {
   "display_name": "Python 3",
   "language": "python",
   "name": "python3"
  },
  "language_info": {
   "codemirror_mode": {
    "name": "ipython",
    "version": 3
   },
   "file_extension": ".py",
   "mimetype": "text/x-python",
   "name": "python",
   "nbconvert_exporter": "python",
   "pygments_lexer": "ipython3",
   "version": "3.8.2"
  }
 },
 "nbformat": 4,
 "nbformat_minor": 4
}
