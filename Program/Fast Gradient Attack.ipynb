{
 "cells": [
  {
   "cell_type": "code",
   "execution_count": 1,
   "metadata": {},
   "outputs": [],
   "source": [
    "import numpy as np\n",
    "import pandas as pd\n",
    "from sklearn.model_selection import train_test_split\n",
    "from mpl_toolkits.mplot3d import Axes3D\n",
    "import matplotlib.pyplot as plt\n",
    "\n",
    "from matplotlib.colors import ListedColormap\n",
    "%matplotlib inline\n",
    "from sklearn.metrics import accuracy_score\n",
    "from sklearn.preprocessing import OneHotEncoder\n",
    "import sklearn.linear_model\n",
    "\n",
    "import time\n",
    "\n",
    "from NeuralNet import NeuralNet\n",
    "from utils.json import *\n",
    "\n",
    "np.random.seed(1)"
   ]
  },
  {
   "cell_type": "code",
   "execution_count": 2,
   "metadata": {},
   "outputs": [
    {
     "name": "stdout",
     "output_type": "stream",
     "text": [
      "Training set: X=(42000, 784), y=(42000,)\n"
     ]
    }
   ],
   "source": [
    "df = pd.read_csv(\"data/train.csv\")\n",
    "X, Y = df.drop('label', axis=1), df['label']\n",
    "print('Training set: X={}, y={}'.format(X.shape, Y.shape))"
   ]
  },
  {
   "cell_type": "code",
   "execution_count": 3,
   "metadata": {},
   "outputs": [],
   "source": [
    "#X, _, Y , _= train_test_split(X, Y.values.reshape((Y.shape[0], 1)), test_size = 0.9, random_state=10)\n",
    "#print(X.shape, Y.shape)"
   ]
  },
  {
   "cell_type": "code",
   "execution_count": 4,
   "metadata": {},
   "outputs": [],
   "source": [
    "X_train, X_test, Y_train, Y_test = train_test_split(X.to_numpy(), Y.values.reshape((Y.shape[0], 1)), test_size = 0.2, random_state=10) # Y.values\n",
    "\n",
    "X_train = X_train / 255\n",
    "X_test = X_test / 255\n",
    "\n",
    "encoder = OneHotEncoder()\n",
    "Y_train_e = encoder.fit_transform(Y_train).toarray()\n"
   ]
  },
  {
   "cell_type": "code",
   "execution_count": 5,
   "metadata": {},
   "outputs": [],
   "source": [
    "cls = NeuralNet(layer_dims = [784, 60, 10], learning_rate = 0.1, num_iter = 300, \\\n",
    "                         normalize = False, mini_batch_size=2048)\n",
    "\n",
    "cls.parameters = read_from_json(\"nets/main_nn_300\")"
   ]
  },
  {
   "cell_type": "code",
   "execution_count": 6,
   "metadata": {},
   "outputs": [
    {
     "name": "stdout",
     "output_type": "stream",
     "text": [
      "0.9714583333333333\n",
      "0.9571428571428572\n"
     ]
    }
   ],
   "source": [
    "Y_train_hat = cls.predict(X_train)\n",
    "Y_test_hat = cls.predict(X_test)\n",
    "\n",
    "print(accuracy_score(Y_train, Y_train_hat))\n",
    "print(accuracy_score(Y_test, Y_test_hat))"
   ]
  },
  {
   "cell_type": "code",
   "execution_count": 8,
   "metadata": {},
   "outputs": [
    {
     "data": {
      "text/plain": [
       "array([[2.09628387e-06, 3.59190938e-06, 1.39624746e-04, ...,\n",
       "        9.98630325e-01, 3.55777341e-05, 7.34301649e-04],\n",
       "       [5.65634675e-06, 2.21088682e-06, 1.43496258e-04, ...,\n",
       "        7.00465465e-07, 4.33731897e-04, 3.00655331e-05],\n",
       "       [2.04031831e-06, 1.03070584e-04, 5.07878008e-06, ...,\n",
       "        9.04418297e-03, 7.48806749e-03, 6.80622548e-01],\n",
       "       ...,\n",
       "       [5.11209831e-06, 1.00828694e-06, 1.30114903e-02, ...,\n",
       "        3.73986608e-06, 2.51533760e-04, 4.16077734e-05],\n",
       "       [7.20096982e-07, 2.72114092e-07, 5.19054821e-06, ...,\n",
       "        1.10145032e-05, 1.54757178e-05, 1.84228349e-04],\n",
       "       [3.20266694e-06, 9.89104451e-01, 3.88149215e-03, ...,\n",
       "        7.42666638e-05, 5.73205690e-03, 3.15874093e-05]])"
      ]
     },
     "execution_count": 8,
     "metadata": {},
     "output_type": "execute_result"
    }
   ],
   "source": [
    "Y_prob = cls.predict_proba(X_test)\n",
    "Y_prob"
   ]
  },
  {
   "cell_type": "code",
   "execution_count": 9,
   "metadata": {},
   "outputs": [
    {
     "data": {
      "text/html": [
       "<div>\n",
       "<style scoped>\n",
       "    .dataframe tbody tr th:only-of-type {\n",
       "        vertical-align: middle;\n",
       "    }\n",
       "\n",
       "    .dataframe tbody tr th {\n",
       "        vertical-align: top;\n",
       "    }\n",
       "\n",
       "    .dataframe thead th {\n",
       "        text-align: right;\n",
       "    }\n",
       "</style>\n",
       "<table border=\"1\" class=\"dataframe\">\n",
       "  <thead>\n",
       "    <tr style=\"text-align: right;\">\n",
       "      <th></th>\n",
       "      <th>Y_test</th>\n",
       "      <th>Y_test_hat</th>\n",
       "      <th>Y_prob</th>\n",
       "    </tr>\n",
       "  </thead>\n",
       "  <tbody>\n",
       "    <tr>\n",
       "      <th>0</th>\n",
       "      <td>7</td>\n",
       "      <td>7</td>\n",
       "      <td>0.998630</td>\n",
       "    </tr>\n",
       "    <tr>\n",
       "      <th>1</th>\n",
       "      <td>3</td>\n",
       "      <td>3</td>\n",
       "      <td>0.997697</td>\n",
       "    </tr>\n",
       "    <tr>\n",
       "      <th>2</th>\n",
       "      <td>9</td>\n",
       "      <td>9</td>\n",
       "      <td>0.680623</td>\n",
       "    </tr>\n",
       "    <tr>\n",
       "      <th>3</th>\n",
       "      <td>8</td>\n",
       "      <td>8</td>\n",
       "      <td>0.983901</td>\n",
       "    </tr>\n",
       "    <tr>\n",
       "      <th>4</th>\n",
       "      <td>6</td>\n",
       "      <td>6</td>\n",
       "      <td>0.997686</td>\n",
       "    </tr>\n",
       "  </tbody>\n",
       "</table>\n",
       "</div>"
      ],
      "text/plain": [
       "   Y_test  Y_test_hat    Y_prob\n",
       "0       7           7  0.998630\n",
       "1       3           3  0.997697\n",
       "2       9           9  0.680623\n",
       "3       8           8  0.983901\n",
       "4       6           6  0.997686"
      ]
     },
     "execution_count": 9,
     "metadata": {},
     "output_type": "execute_result"
    }
   ],
   "source": [
    "n = Y_test.shape[0]\n",
    "stat = pd.DataFrame(data = {\n",
    "  'Y_test': Y_test.reshape((n,)),\n",
    "  'Y_test_hat': Y_test_hat.reshape((n,)),\n",
    "  'Y_prob': np.max(Y_prob, axis=1, keepdims=True).reshape((n,))})\n",
    "stat.head()"
   ]
  },
  {
   "cell_type": "code",
   "execution_count": 10,
   "metadata": {},
   "outputs": [
    {
     "name": "stderr",
     "output_type": "stream",
     "text": [
      "<ipython-input-10-ae068643c38b>:2: UserWarning: Boolean Series key will be reindexed to match DataFrame index.\n",
      "  stat[stat['Y_test'] == stat['Y_test']]\\\n"
     ]
    }
   ],
   "source": [
    "filt = \\\n",
    "stat[stat['Y_test'] == stat['Y_test']]\\\n",
    "    [stat['Y_prob'].values > 0.98]\\\n",
    "    [stat['Y_test'] == 1]"
   ]
  },
  {
   "cell_type": "code",
   "execution_count": 11,
   "metadata": {},
   "outputs": [
    {
     "data": {
      "text/plain": [
       "(8400, 784)"
      ]
     },
     "execution_count": 11,
     "metadata": {},
     "output_type": "execute_result"
    }
   ],
   "source": [
    "X_test.shape"
   ]
  },
  {
   "cell_type": "code",
   "execution_count": 12,
   "metadata": {},
   "outputs": [],
   "source": [
    "#np.max([L2_norm(X_test[466] - X_test[i]) for i in filt.index])"
   ]
  },
  {
   "cell_type": "code",
   "execution_count": 13,
   "metadata": {},
   "outputs": [],
   "source": [
    "#L2_norm(X_train[466] - X_test[2])"
   ]
  },
  {
   "cell_type": "code",
   "execution_count": null,
   "metadata": {},
   "outputs": [],
   "source": []
  },
  {
   "cell_type": "code",
   "execution_count": 14,
   "metadata": {},
   "outputs": [
    {
     "name": "stdout",
     "output_type": "stream",
     "text": [
      "0.9714583333333333\n",
      "0.9571428571428572\n"
     ]
    }
   ],
   "source": [
    "print(accuracy_score(Y_train, Y_train_hat))\n",
    "print(accuracy_score(Y_test, Y_test_hat))"
   ]
  },
  {
   "cell_type": "code",
   "execution_count": 15,
   "metadata": {},
   "outputs": [],
   "source": [
    "class Attack:\n",
    "\n",
    "    def __init__(self, model):\n",
    "        self.model = model\n",
    "        self.parameters = model.parameters\n",
    "        self.mask = None\n",
    "        \n",
    "        \n",
    "    def __tanh(self, Z):\n",
    "        return np.tanh(Z)\n",
    "\n",
    "    def __tanh_derivative(self, Z):\n",
    "        return 1 / np.power(np.cosh(Z), 2)\n",
    "      \n",
    "    def compute_cost(self, A, Y):\n",
    "        J = -np.mean(Y.T * np.log(A.T+ 1e-8))\n",
    "        return J\n",
    "      \n",
    "    def e_vector(self, num, length=784):\n",
    "      return np.array([[1] if i == num else [0] for i in range(length)])\n",
    "    \n",
    "    \n",
    "    def __backward_linear_activation(self, dX, cache, activation):\n",
    "\n",
    "        linear_cache, activation_cache = cache\n",
    "\n",
    "        # activation backward\n",
    "        Z = activation_cache.T\n",
    "\n",
    "        if activation == 'sigmoid':\n",
    "            dZ = dX * self.__sigmoid_derivative(Z)\n",
    "\n",
    "        if activation == 'relu':\n",
    "            dZ = dX * self.__relu_derivative(Z)\n",
    "\n",
    "        if activation == 'tanh':\n",
    "            dZ = dX * self.__tanh_derivative(Z)\n",
    "\n",
    "        # linear backward\n",
    "        A_prev, W, b = linear_cache\n",
    "        m = A_prev.shape[1]\n",
    "        dX_prev = 1 / m * np.dot(dZ, W)\n",
    "        \n",
    "        return dX_prev\n",
    "\n",
    "    def __multilayer_backward(self, Y_hat, Y, caches):\n",
    "        Y = Y.reshape(Y_hat.shape)\n",
    "        \n",
    "        L = len(self.parameters)//2\n",
    "        m = Y_hat.shape[1]\n",
    "\n",
    "        dZ = Y_hat - Y\n",
    "        \n",
    "        dX = 1 / m * np.dot(dZ.T, self.parameters['W'+str(L)])\n",
    "        \n",
    "        for l in reversed(range(L-1)):\n",
    "            dX = self.__backward_linear_activation(dX, caches[l], activation='tanh')\n",
    "            \n",
    "        return dX\n",
    "    \n",
    "    \n",
    "    def update_instance_grads(self, instance, grads, adapting_rate, targeted):\n",
    "        return instance + (-1 if targeted else 1)*adapting_rate*grads\n",
    "        #return instance + (-1)*adapting_rate*grads\n",
    "    \n",
    "    \n",
    "    \n",
    "    def update_instance_FGSM(self, instance, grads, adapting_rate, targeted):\n",
    "        return instance + (-1 if targeted else 1)*adapting_rate*np.sign(grads)\n",
    "    \n",
    "    def update_instance_ADAM(self, instance, grads, adapting_rate, targeted,\\\n",
    "                             v, s, t, beta1 = 0.1, beta2 = 0.999,  epsilon = 1e-8):\n",
    "      \n",
    "        v = beta1*v + (1 - beta1)*grads\n",
    "        v_corrected = v/(1 - beta1**t)\n",
    "        \n",
    "        s = beta2*s + (1-beta2)*np.square(grads)\n",
    "        s_corrected = s/(1 - beta2**t)\n",
    "        \n",
    "        instance = instance + (-1 if targeted else 1)*adapting_rate*v_corrected/np.sqrt(s_corrected + epsilon)\n",
    "        \n",
    "        return instance, v, s\n",
    "    \n",
    "    \n",
    "    def attack(self, instance, target, attack_type, num_iters,\\\n",
    "               pretrub_importance=None, adapting_rate=0.01, targeted=False, print_cost=True):\n",
    "      \n",
    "        instance = instance.T\n",
    "        initial = instance.copy()\n",
    "        \n",
    "        target = target.T\n",
    "        m = instance.shape[1]\n",
    "        costs = []\n",
    "        \n",
    "        v = np.zeros(instance.shape)            \n",
    "        s = np.zeros(instance.shape)\n",
    "\n",
    "        for i in range(num_iters):\n",
    "            Y_hat, caches = self.model.multilayer_forward(instance)\n",
    "            \n",
    "            attack.iter = i\n",
    "            \n",
    "            # stop if adversarial\n",
    "            if (instance.shape[1]==1\n",
    "                and (np.argmax(Y_hat) == np.argmax(target) and targeted)\n",
    "                or (np.argmax(Y_hat) != np.argmax(target) and not targeted)):\n",
    "\n",
    "                break\n",
    "            \n",
    "            cost = self.model.compute_cost(Y_hat, target)\n",
    "            \n",
    "            \n",
    "            grads = self.__multilayer_backward(Y_hat, target, caches).T\n",
    "            \n",
    "            if(pretrub_importance != None):\n",
    "                grads = grads + 2*(instance - initial) #TODO pretrub_importance*\n",
    "            \n",
    "            \n",
    "            if(attack_type=='grads'):\n",
    "                buff = instance - adapting_rate*(2*(instance - initial) - 0.01*grads)\n",
    "            \n",
    "            if(attack_type=='FGSM'):\n",
    "                buff = self.update_instance_FGSM(instance, grads, adapting_rate, targeted)\n",
    "            \n",
    "            if(attack_type=='ADAM'):\n",
    "                buff, v, s = self.update_instance_ADAM(instance, grads,\\\n",
    "                                                       adapting_rate, targeted, v, s, i+1)\n",
    "            \n",
    "            \n",
    "            instance = np.clip(buff, 0, 1)\n",
    "\n",
    "            costs.append(cost)\n",
    "            if print_cost and i % 10 == 0:\n",
    "                print(\"Cost after iteration %i: %f\" % (i, cost))\n",
    "\n",
    "        if print_cost:\n",
    "            plt.title(str(num_iters) + \" iterations\")\n",
    "            plt.plot(costs)\n",
    "            plt.ylabel(\"Cost\")\n",
    "            plt.xlabel(\"Iteration\")\n",
    "            plt.show()\n",
    "\n",
    "        return instance\n",
    "      \n",
    "    def zoo_attack_stohastic(self, instance, target, attack_type, num_iters,\\\n",
    "                   pretrub_importance=None, adapting_rate=0.01, targeted=False, print_cost=True, h=1e-8):\n",
    "        \n",
    "        instance = instance.T.copy()\n",
    "        initial = instance.copy()\n",
    "        \n",
    "        target = target.T\n",
    "        m = instance.shape[1]\n",
    "        costs = []\n",
    "        \n",
    "        v = np.zeros(instance.shape)            \n",
    "        s = np.zeros(instance.shape)\n",
    "        \n",
    "        counter = 1\n",
    "        \n",
    "        \n",
    "        \n",
    "        for i in range(num_iters):\n",
    "            Y_hat, caches = self.model.multilayer_forward(instance)\n",
    "            \n",
    "            attack.iter = i\n",
    "            print('attack iter', i)\n",
    "            \n",
    "            range_ = np.arange(instance.shape[0])\n",
    "            np.random.shuffle(range_)\n",
    "            \n",
    "            for j in range_:\n",
    "                # stop if adversarial\n",
    "                if (instance.shape[1]==1\n",
    "                    and (np.argmax(Y_hat) == np.argmax(target) and targeted)\n",
    "                    or (np.argmax(Y_hat) != np.argmax(target) and not targeted)):\n",
    "\n",
    "                    break\n",
    "\n",
    "                #cost = self.model.compute_cost(Y_hat, target)                \n",
    "                \n",
    "                Y_left, caches = self.model.multilayer_forward(instance + self.e_vector(j)*h)\n",
    "                \n",
    "                Y_right, caches = self.model.multilayer_forward(instance - self.e_vector(j)*h)\n",
    "                \n",
    "                \n",
    "                grad = (self.compute_cost(Y_left, target) - self.compute_cost(Y_right, target))/(2*h)\n",
    "                \n",
    "                if(attack_type=='grads'):\n",
    "                    buff = self.update_instance_grads(instance[j][0], grad, adapting_rate, targeted)\n",
    "\n",
    "                if(attack_type=='FGSM'):\n",
    "                    buff = self.update_instance_FGSM(instance[j][0], grad, adapting_rate, targeted)\n",
    "\n",
    "                if(attack_type=='ADAM'):\n",
    "                    buff, v, s = self.update_instance_ADAM(instance[j][0], grad,\\\n",
    "                                                           adapting_rate, targeted, v, s, counter)\n",
    "                counter+=1\n",
    "                #print(buff)\n",
    "\n",
    "                instance[j][0] = np.clip(buff[0][0], 0, 1)\n",
    "                \n",
    "            if (instance.shape[1]==1\n",
    "                    and (np.argmax(Y_hat) == np.argmax(target) and targeted)\n",
    "                    or (np.argmax(Y_hat) != np.argmax(target) and not targeted)):\n",
    "\n",
    "                break\n",
    "\n",
    "            #costs.append(cost)\n",
    "            if print_cost and i % 10 == 0:\n",
    "                print(\"Cost after iteration %i: %f\" % (i, cost))\n",
    "\n",
    "        if print_cost:\n",
    "            plt.title(str(num_iters) + \" iterations\")\n",
    "            plt.plot(costs)\n",
    "            plt.ylabel(\"Cost\")\n",
    "            plt.xlabel(\"Iteration\")\n",
    "            plt.show()\n",
    "\n",
    "        return instance\n",
    "      \n",
    "    def zoo_attack(self, instance, target, attack_type, num_iters,\\\n",
    "                   pretrub_importance=None, adapting_rate=0.01, targeted=False, print_cost=True, h=1e-8):\n",
    "        \n",
    "        instance = instance.T\n",
    "        initial = instance.copy()\n",
    "        \n",
    "        target = target.T\n",
    "        m = instance.shape[1]\n",
    "        costs = []\n",
    "        \n",
    "        v = np.zeros(instance.shape)            \n",
    "        s = np.zeros(instance.shape)\n",
    "\n",
    "        for i in range(num_iters):\n",
    "            Y_hat, caches = self.model.multilayer_forward(instance)\n",
    "            \n",
    "            attack.iter = i\n",
    "            print('attack iter', i)\n",
    "            \n",
    "            if (instance.shape[1]==1\n",
    "                    and (np.argmax(Y_hat) == np.argmax(target) and targeted)\n",
    "                    or (np.argmax(Y_hat) != np.argmax(target) and not targeted)):\n",
    "\n",
    "                    break\n",
    "            \n",
    "            grads = np.zeros(instance.shape)\n",
    "            \n",
    "            for j in range(instance.shape[0]):                \n",
    "                \n",
    "                Y_left, caches = self.model.multilayer_forward(instance + self.e_vector(j)*h)\n",
    "                \n",
    "                Y_right, caches = self.model.multilayer_forward(instance - self.e_vector(j)*h)\n",
    "                \n",
    "                grad = (self.compute_cost(Y_left, target) - self.compute_cost(Y_right, target))/(2*h)\n",
    "                \n",
    "                grads[j][0] = grad\n",
    "            \n",
    "            if(pretrub_importance != None):\n",
    "                grads = grads + pretrub_importance*(instance - initial) #TODO\n",
    "            \n",
    "            if(attack_type=='grads'):\n",
    "                buff = self.update_instance_grads(instance, grads, adapting_rate, targeted)\n",
    "            \n",
    "            if(attack_type=='FGSM'):\n",
    "                buff = self.update_instance_FGSM(instance, grads, adapting_rate, targeted)\n",
    "            \n",
    "            if(attack_type=='ADAM'):\n",
    "                buff, v, s = self.update_instance_ADAM(instance, grads,\\\n",
    "                                                       adapting_rate, targeted, v, s, i+1)\n",
    "                        \n",
    "            instance = np.clip(buff, 0, 1)\n",
    "\n",
    "            #costs.append(cost)\n",
    "            if print_cost and i % 10 == 0:\n",
    "                print(\"Cost after iteration %i: %f\" % (i, cost))\n",
    "\n",
    "        if print_cost:\n",
    "            plt.title(str(num_iters) + \" iterations\")\n",
    "            plt.plot(costs)\n",
    "            plt.ylabel(\"Cost\")\n",
    "            plt.xlabel(\"Iteration\")\n",
    "            plt.show()\n",
    "\n",
    "        return instance"
   ]
  },
  {
   "cell_type": "code",
   "execution_count": 16,
   "metadata": {},
   "outputs": [],
   "source": [
    "attack = Attack(cls)"
   ]
  },
  {
   "cell_type": "code",
   "execution_count": 17,
   "metadata": {},
   "outputs": [],
   "source": [
    "def L2_norm(x, axis=0):\n",
    "  return np.sqrt(np.square(x).sum(axis=axis))"
   ]
  },
  {
   "cell_type": "code",
   "execution_count": 18,
   "metadata": {},
   "outputs": [
    {
     "data": {
      "text/plain": [
       "array([1.41421356])"
      ]
     },
     "execution_count": 18,
     "metadata": {},
     "output_type": "execute_result"
    }
   ],
   "source": [
    "L2_norm([[1],\n",
    "         [1]], axis = 0)"
   ]
  },
  {
   "cell_type": "markdown",
   "metadata": {},
   "source": [
    "## Distance"
   ]
  },
  {
   "cell_type": "code",
   "execution_count": 19,
   "metadata": {},
   "outputs": [],
   "source": [
    "instance = np.random.randn(10,784)"
   ]
  },
  {
   "cell_type": "code",
   "execution_count": 20,
   "metadata": {},
   "outputs": [],
   "source": [
    "ll_classes = np.diag(np.ones(10))"
   ]
  },
  {
   "cell_type": "code",
   "execution_count": 21,
   "metadata": {},
   "outputs": [
    {
     "ename": "NameError",
     "evalue": "name 'all_classes' is not defined",
     "output_type": "error",
     "traceback": [
      "\u001b[1;31m---------------------------------------------------------------------------\u001b[0m",
      "\u001b[1;31mNameError\u001b[0m                                 Traceback (most recent call last)",
      "\u001b[1;32m<ipython-input-21-41c8d712f7e1>\u001b[0m in \u001b[0;36m<module>\u001b[1;34m\u001b[0m\n\u001b[1;32m----> 1\u001b[1;33m \u001b[0mexample\u001b[0m \u001b[1;33m=\u001b[0m \u001b[0mattack\u001b[0m\u001b[1;33m.\u001b[0m\u001b[0mattack\u001b[0m\u001b[1;33m(\u001b[0m\u001b[0minstance\u001b[0m\u001b[1;33m,\u001b[0m \u001b[0mall_classes\u001b[0m\u001b[1;33m,\u001b[0m \u001b[1;36m1000\u001b[0m\u001b[1;33m,\u001b[0m \u001b[0madapting_rate\u001b[0m\u001b[1;33m=\u001b[0m\u001b[1;36m0.2\u001b[0m\u001b[1;33m)\u001b[0m\u001b[1;33m\u001b[0m\u001b[1;33m\u001b[0m\u001b[0m\n\u001b[0m",
      "\u001b[1;31mNameError\u001b[0m: name 'all_classes' is not defined"
     ]
    }
   ],
   "source": [
    "example = attack.attack(instance, all_classes, 1000, adapting_rate=0.2)"
   ]
  },
  {
   "cell_type": "code",
   "execution_count": null,
   "metadata": {},
   "outputs": [],
   "source": [
    "example = attack.attack(example.T, all_classes, 3000, adapting_rate=0.1)"
   ]
  },
  {
   "cell_type": "code",
   "execution_count": null,
   "metadata": {},
   "outputs": [],
   "source": [
    "example.shape"
   ]
  },
  {
   "cell_type": "code",
   "execution_count": null,
   "metadata": {},
   "outputs": [],
   "source": [
    "n = example.shape[1]\n",
    "fig, ax = plt.subplots(1,n, figsize=(3*n, 3))\n",
    "for (i, e) in enumerate(example.T):\n",
    "    ax[i].imshow(e.reshape((28,28)), cmap='gray_r') #*255 % 255\n",
    "    ax[i].axis('off')"
   ]
  },
  {
   "cell_type": "code",
   "execution_count": null,
   "metadata": {},
   "outputs": [],
   "source": [
    "buff = example.copy"
   ]
  },
  {
   "cell_type": "code",
   "execution_count": null,
   "metadata": {},
   "outputs": [],
   "source": [
    "example = buff"
   ]
  },
  {
   "cell_type": "code",
   "execution_count": null,
   "metadata": {},
   "outputs": [],
   "source": [
    "np.max(cls.predict_proba(example.T), axis=0)"
   ]
  },
  {
   "cell_type": "code",
   "execution_count": null,
   "metadata": {},
   "outputs": [],
   "source": [
    "cls.predict_proba(example.T[1:2])"
   ]
  },
  {
   "cell_type": "code",
   "execution_count": null,
   "metadata": {},
   "outputs": [],
   "source": [
    "a = np.arange(4)\n",
    "np.random.shuffle(a)\n",
    "print(a)"
   ]
  },
  {
   "cell_type": "code",
   "execution_count": null,
   "metadata": {},
   "outputs": [],
   "source": []
  },
  {
   "cell_type": "code",
   "execution_count": null,
   "metadata": {},
   "outputs": [],
   "source": [
    "cls.predict_proba()"
   ]
  },
  {
   "cell_type": "markdown",
   "metadata": {},
   "source": [
    "## Targeted attack"
   ]
  },
  {
   "cell_type": "code",
   "execution_count": 22,
   "metadata": {},
   "outputs": [
    {
     "data": {
      "text/plain": [
       "array([5, 6, 8, 6, 0, 7, 7, 6, 4, 9], dtype=int64)"
      ]
     },
     "execution_count": 22,
     "metadata": {},
     "output_type": "execute_result"
    }
   ],
   "source": [
    "cls.predict(X_test[10:20])"
   ]
  },
  {
   "cell_type": "code",
   "execution_count": null,
   "metadata": {},
   "outputs": [],
   "source": []
  },
  {
   "cell_type": "code",
   "execution_count": 23,
   "metadata": {},
   "outputs": [
    {
     "name": "stdout",
     "output_type": "stream",
     "text": [
      "epsilon = 0.00392156862745098\n",
      "10 instances, 9 adversaries\n",
      "20 instances, 19 adversaries\n",
      "------------------------------ (27, 784)\n",
      "total time: 0.8395562171936035\n",
      "total iter: 566\n"
     ]
    },
    {
     "data": {
      "text/html": [
       "<div>\n",
       "<style scoped>\n",
       "    .dataframe tbody tr th:only-of-type {\n",
       "        vertical-align: middle;\n",
       "    }\n",
       "\n",
       "    .dataframe tbody tr th {\n",
       "        vertical-align: top;\n",
       "    }\n",
       "\n",
       "    .dataframe thead th {\n",
       "        text-align: right;\n",
       "    }\n",
       "</style>\n",
       "<table border=\"1\" class=\"dataframe\">\n",
       "  <thead>\n",
       "    <tr style=\"text-align: right;\">\n",
       "      <th></th>\n",
       "      <th>target</th>\n",
       "      <th>successful attempts</th>\n",
       "      <th>epsilon</th>\n",
       "    </tr>\n",
       "  </thead>\n",
       "  <tbody>\n",
       "    <tr>\n",
       "      <th>0</th>\n",
       "      <td>NaN</td>\n",
       "      <td>24.0</td>\n",
       "      <td>0.003922</td>\n",
       "    </tr>\n",
       "  </tbody>\n",
       "</table>\n",
       "</div>"
      ],
      "text/plain": [
       "   target  successful attempts   epsilon\n",
       "0     NaN                 24.0  0.003922"
      ]
     },
     "execution_count": 23,
     "metadata": {},
     "output_type": "execute_result"
    }
   ],
   "source": [
    "df = pd.DataFrame(columns = ['target','successful attempts', 'epsilon']) #'initial',\n",
    "targeted = pd.DataFrame(columns = ['original','target','iterations', 'epsilon', 'L2 norm'])\n",
    "\n",
    "X_test_c = X_test[:27].copy()#np.extract(cls.predict(X_test) == 3, X_test) #[10:20]\n",
    "Y_test_c = Y_test[:27].copy()#np.ones((X_test_c.shape[0], 1))*3\n",
    "\n",
    "Y_hat_c = cls.predict(X_test_c)\n",
    "\n",
    "y_hat_adv = []\n",
    "total_attempts = 0\n",
    "total_iter = 0\n",
    "tick = time.time()\n",
    "for epsilon in [1/255]:#0.007, 0.01, 0.05, 0.1, 0.2]:\n",
    "    print('epsilon =',epsilon)\n",
    "\n",
    "    example = []\n",
    "    initial = []\n",
    "    true_label = []\n",
    "    adversarial = []\n",
    "    for (x, y, y_hat) in zip(X_test_c, Y_test_c, Y_hat_c):\n",
    "        x = np.array([x])\n",
    "        prediction = y_hat\n",
    "\n",
    "        if(y == y_hat):\n",
    "          \n",
    "          \n",
    "            target = 3#np.random.choice(np.delete(np.arange(10), y), 1, replace=False)[0]\n",
    "            x_adv = attack.attack(x,\\\n",
    "                                  np.array([[1 if i==target else 0 for i in range(10)]]),\\\n",
    "                                  #'ADAM',\\\n",
    "                                  'FGSM',\\\n",
    "                                  #'grads',\\\n",
    "                                  10000,\\\n",
    "                                  #pretrub_importance=0.01,\\\n",
    "                                  adapting_rate=epsilon, print_cost=False, targeted=True).T[0]\n",
    "            \n",
    "            total_iter += attack.iter\n",
    "\n",
    "            example.append(x_adv)\n",
    "            true_label.append([y])\n",
    "\n",
    "            total_attempts += 1\n",
    "            prediction = cls.predict(np.array([x_adv]))[0]\n",
    "            if(prediction == target and y!=3):\n",
    "                initial.append(x[0])\n",
    "                adversarial.append(x_adv)\n",
    "                \n",
    "                targeted = targeted.append({'original': y[0],'target': target,\\\n",
    "                                 'iterations': attack.iter, 'L2 norm': L2_norm(x[0]-x_adv),\\\n",
    "                                 'epsilon': epsilon}, ignore_index=True)\n",
    "\n",
    "                \n",
    "        y_hat_adv.append(prediction)\n",
    "        \n",
    "        if(total_attempts% 10 == 0): print(total_attempts,'instances,', len(adversarial), 'adversaries');\n",
    "\n",
    "    example = np.array(example)\n",
    "    initial = np.array(initial)\n",
    "    true_label = np.array(true_label)\n",
    "    adversarial = np.array(adversarial)\n",
    "    y_hat_adv = np.array(y_hat_adv)\n",
    "\n",
    "    print('------------------------------',example.shape)\n",
    "    Y_hat = cls.predict(example).reshape(true_label.shape)\n",
    "\n",
    "    #print((Y_hat == target).shape)\n",
    "    #print((Y_hat != Y_test) * (Y_hat == target) * ((cls.predict(X_test)==Y_test).reshape(Y_hat.shape)))\n",
    "\n",
    "    successful_attempts = len(adversarial)#np.sum(\n",
    "    #  (Y_hat != true_label)\n",
    "    #  * (Y_hat == target))\n",
    "      #* (true_label == cls.predict(X_test_c).reshape(true_label.shape)))\n",
    "\n",
    "    df = df.append({'successful attempts': successful_attempts, 'epsilon': epsilon}, ignore_index=True)\n",
    "\n",
    "print('total time:', time.time() - tick)\n",
    "print('total iter:', total_iter)\n",
    "df"
   ]
  },
  {
   "cell_type": "code",
   "execution_count": 24,
   "metadata": {},
   "outputs": [
    {
     "data": {
      "text/html": [
       "<div>\n",
       "<style scoped>\n",
       "    .dataframe tbody tr th:only-of-type {\n",
       "        vertical-align: middle;\n",
       "    }\n",
       "\n",
       "    .dataframe tbody tr th {\n",
       "        vertical-align: top;\n",
       "    }\n",
       "\n",
       "    .dataframe thead th {\n",
       "        text-align: right;\n",
       "    }\n",
       "</style>\n",
       "<table border=\"1\" class=\"dataframe\">\n",
       "  <thead>\n",
       "    <tr style=\"text-align: right;\">\n",
       "      <th></th>\n",
       "      <th>original</th>\n",
       "      <th>target</th>\n",
       "      <th>iterations</th>\n",
       "      <th>epsilon</th>\n",
       "      <th>L2 norm</th>\n",
       "    </tr>\n",
       "  </thead>\n",
       "  <tbody>\n",
       "    <tr>\n",
       "      <th>0</th>\n",
       "      <td>7.0</td>\n",
       "      <td>3.0</td>\n",
       "      <td>20.0</td>\n",
       "      <td>0.003922</td>\n",
       "      <td>1.690214</td>\n",
       "    </tr>\n",
       "    <tr>\n",
       "      <th>1</th>\n",
       "      <td>9.0</td>\n",
       "      <td>3.0</td>\n",
       "      <td>15.0</td>\n",
       "      <td>0.003922</td>\n",
       "      <td>1.280084</td>\n",
       "    </tr>\n",
       "    <tr>\n",
       "      <th>2</th>\n",
       "      <td>8.0</td>\n",
       "      <td>3.0</td>\n",
       "      <td>15.0</td>\n",
       "      <td>0.003922</td>\n",
       "      <td>1.246547</td>\n",
       "    </tr>\n",
       "    <tr>\n",
       "      <th>3</th>\n",
       "      <td>6.0</td>\n",
       "      <td>3.0</td>\n",
       "      <td>28.0</td>\n",
       "      <td>0.003922</td>\n",
       "      <td>2.286328</td>\n",
       "    </tr>\n",
       "    <tr>\n",
       "      <th>4</th>\n",
       "      <td>9.0</td>\n",
       "      <td>3.0</td>\n",
       "      <td>12.0</td>\n",
       "      <td>0.003922</td>\n",
       "      <td>1.056919</td>\n",
       "    </tr>\n",
       "  </tbody>\n",
       "</table>\n",
       "</div>"
      ],
      "text/plain": [
       "   original  target  iterations   epsilon   L2 norm\n",
       "0       7.0     3.0        20.0  0.003922  1.690214\n",
       "1       9.0     3.0        15.0  0.003922  1.280084\n",
       "2       8.0     3.0        15.0  0.003922  1.246547\n",
       "3       6.0     3.0        28.0  0.003922  2.286328\n",
       "4       9.0     3.0        12.0  0.003922  1.056919"
      ]
     },
     "execution_count": 24,
     "metadata": {},
     "output_type": "execute_result"
    }
   ],
   "source": [
    "targeted.head()"
   ]
  },
  {
   "cell_type": "code",
   "execution_count": 25,
   "metadata": {},
   "outputs": [],
   "source": [
    "targeted = targeted.sort_values(\"iterations\")"
   ]
  },
  {
   "cell_type": "code",
   "execution_count": 26,
   "metadata": {},
   "outputs": [],
   "source": [
    "pretrub_by_iter = targeted.groupby('iterations', as_index=False)['L2 norm'].mean()\n",
    "pretrub_by_iter = pretrub_by_iter.sort_values(\"iterations\")"
   ]
  },
  {
   "cell_type": "code",
   "execution_count": 27,
   "metadata": {},
   "outputs": [
    {
     "data": {
      "text/plain": [
       "[<matplotlib.lines.Line2D at 0x1da931105b0>]"
      ]
     },
     "execution_count": 27,
     "metadata": {},
     "output_type": "execute_result"
    },
    {
     "data": {
      "image/png": "[encoded data removed]",
      "text/plain": [
       "<Figure size 432x288 with 1 Axes>"
      ]
     },
     "metadata": {
      "needs_background": "light"
     },
     "output_type": "display_data"
    }
   ],
   "source": [
    "plt.plot(pretrub_by_iter['iterations'], pretrub_by_iter['L2 norm'])"
   ]
  },
  {
   "cell_type": "markdown",
   "metadata": {},
   "source": [
    "### Accuracy per iteration"
   ]
  },
  {
   "cell_type": "code",
   "execution_count": 28,
   "metadata": {},
   "outputs": [],
   "source": [
    "accuracy_t = []\n",
    "for iter in pretrub_by_iter[\"iterations\"].values:\n",
    "    accuracy_t.append(1 - targeted[targeted[\"iterations\"]<=iter].shape[0]/total_attempts)"
   ]
  },
  {
   "cell_type": "code",
   "execution_count": 29,
   "metadata": {},
   "outputs": [],
   "source": [
    "iterations_t = pretrub_by_iter[\"iterations\"].values"
   ]
  },
  {
   "cell_type": "code",
   "execution_count": 30,
   "metadata": {},
   "outputs": [
    {
     "data": {
      "image/png": "[encoded data removed]",
      "text/plain": [
       "<Figure size 432x288 with 1 Axes>"
      ]
     },
     "metadata": {
      "needs_background": "light"
     },
     "output_type": "display_data"
    }
   ],
   "source": [
    "FGSM_t, = plt.plot(iterations_t, accuracy_t, 'g-', label='TFGSM')\n",
    "#plt.plot(pretrub_by_iter[\"iterations\"].values, accuracy)"
   ]
  },
  {
   "cell_type": "code",
   "execution_count": 31,
   "metadata": {},
   "outputs": [
    {
     "data": {
      "text/plain": [
       "<matplotlib.lines.Line2D at 0x1da931895b0>"
      ]
     },
     "execution_count": 31,
     "metadata": {},
     "output_type": "execute_result"
    }
   ],
   "source": [
    "FGSM_t"
   ]
  },
  {
   "cell_type": "code",
   "execution_count": 37,
   "metadata": {
    "scrolled": true
   },
   "outputs": [
    {
     "name": "stderr",
     "output_type": "stream",
     "text": [
      "<ipython-input-33-27a33016a3b9>:3: RuntimeWarning: More than 20 figures have been opened. Figures created through the pyplot interface (`matplotlib.pyplot.figure`) are retained until explicitly closed and may consume too much memory. (To control this warning, see the rcParam `figure.max_open_warning`).\n",
      "  fig, ax = plt.subplots(1,n, figsize=(size, size*n))\n"
     ]
    },
    {
     "data": {
      "image/png": "[encoded data removed]",
      "text/plain": [
       "<Figure size 720x2160 with 3 Axes>"
      ]
     },
     "metadata": {
      "needs_background": "light"
     },
     "output_type": "display_data"
    },
    {
     "data": {
      "image/png": "[encoded data removed]",
      "text/plain": [
       "<Figure size 720x2160 with 3 Axes>"
      ]
     },
     "metadata": {
      "needs_background": "light"
     },
     "output_type": "display_data"
    },
    {
     "data": {
      "image/png": "[encoded data removed]",
      "text/plain": [
       "<Figure size 720x2160 with 3 Axes>"
      ]
     },
     "metadata": {
      "needs_background": "light"
     },
     "output_type": "display_data"
    },
    {
     "data": {
      "image/png": "[encoded data removed]",
      "text/plain": [
       "<Figure size 720x2160 with 3 Axes>"
      ]
     },
     "metadata": {
      "needs_background": "light"
     },
     "output_type": "display_data"
    },
    {
     "data": {
      "image/png": "[encoded data removed]",
      "text/plain": [
       "<Figure size 720x2160 with 3 Axes>"
      ]
     },
     "metadata": {
      "needs_background": "light"
     },
     "output_type": "display_data"
    },
    {
     "data": {
      "image/png": "[encoded data removed]",
      "text/plain": [
       "<Figure size 720x2160 with 3 Axes>"
      ]
     },
     "metadata": {
      "needs_background": "light"
     },
     "output_type": "display_data"
    },
    {
     "data": {
      "image/png": "[encoded data removed]",
      "text/plain": [
       "<Figure size 720x2160 with 3 Axes>"
      ]
     },
     "metadata": {
      "needs_background": "light"
     },
     "output_type": "display_data"
    },
    {
     "data": {
      "image/png": "[encoded data removed]",
      "text/plain": [
       "<Figure size 720x2160 with 3 Axes>"
      ]
     },
     "metadata": {
      "needs_background": "light"
     },
     "output_type": "display_data"
    },
    {
     "data": {
      "image/png": "[encoded data removed]",
      "text/plain": [
       "<Figure size 720x2160 with 3 Axes>"
      ]
     },
     "metadata": {
      "needs_background": "light"
     },
     "output_type": "display_data"
    },
    {
     "data": {
      "image/png": "[encoded data removed]",
      "text/plain": [
       "<Figure size 720x2160 with 3 Axes>"
      ]
     },
     "metadata": {
      "needs_background": "light"
     },
     "output_type": "display_data"
    },
    {
     "data": {
      "image/png": "[encoded data removed]",
      "text/plain": [
       "<Figure size 720x2160 with 3 Axes>"
      ]
     },
     "metadata": {
      "needs_background": "light"
     },
     "output_type": "display_data"
    },
    {
     "data": {
      "image/png": "[encoded data removed]",
      "text/plain": [
       "<Figure size 720x2160 with 3 Axes>"
      ]
     },
     "metadata": {
      "needs_background": "light"
     },
     "output_type": "display_data"
    },
    {
     "data": {
      "image/png": "[encoded data removed]",
      "text/plain": [
       "<Figure size 720x2160 with 3 Axes>"
      ]
     },
     "metadata": {
      "needs_background": "light"
     },
     "output_type": "display_data"
    },
    {
     "data": {
      "image/png": "[encoded data removed]",
      "text/plain": [
       "<Figure size 720x2160 with 3 Axes>"
      ]
     },
     "metadata": {
      "needs_background": "light"
     },
     "output_type": "display_data"
    },
    {
     "data": {
      "image/png": "[encoded data removed]",
      "text/plain": [
       "<Figure size 720x2160 with 3 Axes>"
      ]
     },
     "metadata": {
      "needs_background": "light"
     },
     "output_type": "display_data"
    },
    {
     "data": {
      "image/png": "[encoded data removed]",
      "text/plain": [
       "<Figure size 720x2160 with 3 Axes>"
      ]
     },
     "metadata": {
      "needs_background": "light"
     },
     "output_type": "display_data"
    },
    {
     "data": {
      "image/png": "[encoded data removed]",
      "text/plain": [
       "<Figure size 720x2160 with 3 Axes>"
      ]
     },
     "metadata": {
      "needs_background": "light"
     },
     "output_type": "display_data"
    },
    {
     "data": {
      "image/png": "[encoded data removed]",
      "text/plain": [
       "<Figure size 720x2160 with 3 Axes>"
      ]
     },
     "metadata": {
      "needs_background": "light"
     },
     "output_type": "display_data"
    },
    {
     "data": {
      "image/png": "[encoded data removed]",
      "text/plain": [
       "<Figure size 720x2160 with 3 Axes>"
      ]
     },
     "metadata": {
      "needs_background": "light"
     },
     "output_type": "display_data"
    },
    {
     "data": {
      "image/png": "[encoded data removed]",
      "text/plain": [
       "<Figure size 720x2160 with 3 Axes>"
      ]
     },
     "metadata": {
      "needs_background": "light"
     },
     "output_type": "display_data"
    },
    {
     "data": {
      "image/png": "[encoded data removed]",
      "text/plain": [
       "<Figure size 720x2160 with 3 Axes>"
      ]
     },
     "metadata": {
      "needs_background": "light"
     },
     "output_type": "display_data"
    },
    {
     "data": {
      "image/png": "[encoded data removed]",
      "text/plain": [
       "<Figure size 720x2160 with 3 Axes>"
      ]
     },
     "metadata": {
      "needs_background": "light"
     },
     "output_type": "display_data"
    },
    {
     "data": {
      "image/png": "[encoded data removed]",
      "text/plain": [
       "<Figure size 720x2160 with 3 Axes>"
      ]
     },
     "metadata": {
      "needs_background": "light"
     },
     "output_type": "display_data"
    },
    {
     "data": {
      "image/png": "[encoded data removed]",
      "text/plain": [
       "<Figure size 720x2160 with 3 Axes>"
      ]
     },
     "metadata": {
      "needs_background": "light"
     },
     "output_type": "display_data"
    }
   ],
   "source": [
    "noise = adversarial-initial\n",
    "\n",
    "for i in range(adversarial.shape[0]):# [0, 15, 20]:#\n",
    "    show([initial[i], noise[i], (initial+noise)[i]], size=10)"
   ]
  },
  {
   "cell_type": "markdown",
   "metadata": {},
   "source": [
    "## Non-Targeted attack"
   ]
  },
  {
   "cell_type": "code",
   "execution_count": 38,
   "metadata": {},
   "outputs": [],
   "source": [
    "X_test_c = np.concatenate((X_test[:10], X_test[20:30])).copy()"
   ]
  },
  {
   "cell_type": "code",
   "execution_count": 39,
   "metadata": {},
   "outputs": [
    {
     "data": {
      "text/plain": [
       "20"
      ]
     },
     "execution_count": 39,
     "metadata": {},
     "output_type": "execute_result"
    }
   ],
   "source": [
    "len(X_test_c)"
   ]
  },
  {
   "cell_type": "code",
   "execution_count": 40,
   "metadata": {},
   "outputs": [],
   "source": [
    "a = pd.read_csv('data/CW-300.csv')"
   ]
  },
  {
   "cell_type": "code",
   "execution_count": 41,
   "metadata": {},
   "outputs": [],
   "source": [
    "a = a.drop('Unnamed: 0', axis=1)"
   ]
  },
  {
   "cell_type": "code",
   "execution_count": 42,
   "metadata": {},
   "outputs": [],
   "source": [
    "CW_adv, adv_labels = a.drop('label', axis=1).to_numpy(), a['label'].values.reshape((a.shape[0], 1))"
   ]
  },
  {
   "cell_type": "code",
   "execution_count": 43,
   "metadata": {},
   "outputs": [
    {
     "name": "stdout",
     "output_type": "stream",
     "text": [
      "epsilon = 0.11764705882352941\n",
      "10 instances, 10 adversaries\n",
      "20 instances, 20 adversaries\n",
      "30 instances, 30 adversaries\n",
      "30 instances, 30 adversaries\n",
      "40 instances, 40 adversaries\n",
      "50 instances, 50 adversaries\n",
      "60 instances, 60 adversaries\n",
      "70 instances, 70 adversaries\n",
      "80 instances, 80 adversaries\n",
      "90 instances, 90 adversaries\n",
      "100 instances, 100 adversaries\n",
      "110 instances, 110 adversaries\n",
      "120 instances, 120 adversaries\n",
      "130 instances, 130 adversaries\n",
      "140 instances, 140 adversaries\n",
      "150 instances, 150 adversaries\n",
      "160 instances, 160 adversaries\n",
      "170 instances, 170 adversaries\n",
      "180 instances, 180 adversaries\n",
      "190 instances, 190 adversaries\n",
      "200 instances, 200 adversaries\n",
      "210 instances, 210 adversaries\n",
      "220 instances, 220 adversaries\n",
      "230 instances, 230 adversaries\n",
      "240 instances, 240 adversaries\n",
      "250 instances, 250 adversaries\n",
      "260 instances, 260 adversaries\n",
      "270 instances, 270 adversaries\n",
      "280 instances, 280 adversaries\n",
      "290 instances, 290 adversaries\n",
      "------------------------------ (293, 784)\n",
      "total time: 2.766204357147217\n",
      "total iter: 350\n"
     ]
    },
    {
     "data": {
      "text/html": [
       "<div>\n",
       "<style scoped>\n",
       "    .dataframe tbody tr th:only-of-type {\n",
       "        vertical-align: middle;\n",
       "    }\n",
       "\n",
       "    .dataframe tbody tr th {\n",
       "        vertical-align: top;\n",
       "    }\n",
       "\n",
       "    .dataframe thead th {\n",
       "        text-align: right;\n",
       "    }\n",
       "</style>\n",
       "<table border=\"1\" class=\"dataframe\">\n",
       "  <thead>\n",
       "    <tr style=\"text-align: right;\">\n",
       "      <th></th>\n",
       "      <th>target</th>\n",
       "      <th>successful attempts</th>\n",
       "      <th>epsilon</th>\n",
       "    </tr>\n",
       "  </thead>\n",
       "  <tbody>\n",
       "    <tr>\n",
       "      <th>0</th>\n",
       "      <td>NaN</td>\n",
       "      <td>293.0</td>\n",
       "      <td>0.117647</td>\n",
       "    </tr>\n",
       "  </tbody>\n",
       "</table>\n",
       "</div>"
      ],
      "text/plain": [
       "   target  successful attempts   epsilon\n",
       "0     NaN                293.0  0.117647"
      ]
     },
     "execution_count": 43,
     "metadata": {},
     "output_type": "execute_result"
    }
   ],
   "source": [
    "df = pd.DataFrame(columns = ['target','successful attempts', 'epsilon']) #'initial',\n",
    "non_targeted = pd.DataFrame(columns = ['original','prediction','iterations', 'epsilon', 'L2 norm'])\n",
    "\n",
    "X_test_c = X_test[:300].copy()#initial#np.concatenate((X_test[:10], X_test[20:30])).copy()#np.extract(cls.predict(X_test) == 3, X_test) #[10:20]\n",
    "Y_test_c = Y_test[:300].copy()#true_label#np.concatenate((Y_test[:10], Y_test[20:30])).copy()#np.ones((X_test_c.shape[0], 1))*3\n",
    "\n",
    "Y_hat_c = cls.predict(X_test_c)\n",
    "\n",
    "\n",
    "tick = time.time()\n",
    "for epsilon in [30/255]:#, 3/255, 5/255, 10/255, 15/255, 30/255, 50/255, 80/255, 120/255]:#[1/255]:#0.007, 0.01, 0.05, 0.1, 0.2]:\n",
    "    print('epsilon =',epsilon)\n",
    "    total_attempts = 0\n",
    "    total_iter = 0\n",
    "    example = []\n",
    "    initial = []\n",
    "    true_label = []\n",
    "    adversarial = []\n",
    "    y_hat_adv = []\n",
    "    for (x, y, y_hat) in zip(X_test_c, Y_test_c, Y_hat_c):\n",
    "        x = np.array([x])\n",
    "        prediction = y_hat\n",
    "\n",
    "        if(y == y_hat):\n",
    "\n",
    "            x_adv = attack.attack(x,\\\n",
    "                                  np.array([[1 if i==y else 0 for i in range(10)]]),\\\n",
    "                                  #'ADAM',\\\n",
    "                                  'FGSM',\\\n",
    "                                  #'grads',\\\n",
    "                                  10000,\\\n",
    "                                  #pretrub_importance=0.01,\\\n",
    "                                  adapting_rate=epsilon, print_cost=False, targeted=False).T[0]\n",
    "            \n",
    "            total_iter += attack.iter\n",
    "\n",
    "            example.append(x_adv)\n",
    "            true_label.append([y])\n",
    "\n",
    "            total_attempts += 1\n",
    "            prediction = cls.predict(np.array([x_adv]))[0]\n",
    "            if(prediction != y):\n",
    "                initial.append(x[0])\n",
    "                adversarial.append(x_adv)\n",
    "                \n",
    "                non_targeted = non_targeted.append({'original': y[0],'prediction': prediction,\\\n",
    "                                 'iterations': attack.iter, 'L2 norm': L2_norm(x[0]-x_adv),\\\n",
    "                                 'epsilon': epsilon}, ignore_index=True)\n",
    "                \n",
    "        y_hat_adv.append(prediction)\n",
    "        \n",
    "        if(total_attempts% 10 == 0): print(total_attempts,'instances,', len(adversarial), 'adversaries');\n",
    "\n",
    "    example = np.array(example)\n",
    "    initial = np.array(initial)\n",
    "    true_label = np.array(true_label)\n",
    "    adversarial = np.array(adversarial)\n",
    "    y_hat_adv = np.array(y_hat_adv)\n",
    "\n",
    "    print('------------------------------',example.shape)\n",
    "    Y_hat = cls.predict(example).reshape(true_label.shape)\n",
    "\n",
    "    #print((Y_hat == target).shape)\n",
    "    #print((Y_hat != Y_test) * (Y_hat == target) * ((cls.predict(X_test)==Y_test).reshape(Y_hat.shape)))\n",
    "\n",
    "    successful_attempts = len(adversarial)#np.sum(\n",
    "    #  (Y_hat != true_label)\n",
    "    #  * (Y_hat == target))\n",
    "      #* (true_label == cls.predict(X_test_c).reshape(true_label.shape)))\n",
    "\n",
    "    df = df.append({'successful attempts': successful_attempts, 'epsilon': epsilon}, ignore_index=True)\n",
    "\n",
    "print('total time:', time.time() - tick)\n",
    "print('total iter:', total_iter)\n",
    "df"
   ]
  },
  {
   "cell_type": "code",
   "execution_count": 45,
   "metadata": {},
   "outputs": [
    {
     "data": {
      "text/html": [
       "<div>\n",
       "<style scoped>\n",
       "    .dataframe tbody tr th:only-of-type {\n",
       "        vertical-align: middle;\n",
       "    }\n",
       "\n",
       "    .dataframe tbody tr th {\n",
       "        vertical-align: top;\n",
       "    }\n",
       "\n",
       "    .dataframe thead th {\n",
       "        text-align: right;\n",
       "    }\n",
       "</style>\n",
       "<table border=\"1\" class=\"dataframe\">\n",
       "  <thead>\n",
       "    <tr style=\"text-align: right;\">\n",
       "      <th></th>\n",
       "      <th>original</th>\n",
       "      <th>prediction</th>\n",
       "      <th>iterations</th>\n",
       "      <th>epsilon</th>\n",
       "      <th>L2 norm</th>\n",
       "    </tr>\n",
       "  </thead>\n",
       "  <tbody>\n",
       "    <tr>\n",
       "      <th>0</th>\n",
       "      <td>7.0</td>\n",
       "      <td>3.0</td>\n",
       "      <td>1.0</td>\n",
       "      <td>0.117647</td>\n",
       "      <td>2.581277</td>\n",
       "    </tr>\n",
       "    <tr>\n",
       "      <th>1</th>\n",
       "      <td>3.0</td>\n",
       "      <td>5.0</td>\n",
       "      <td>2.0</td>\n",
       "      <td>0.117647</td>\n",
       "      <td>4.625131</td>\n",
       "    </tr>\n",
       "    <tr>\n",
       "      <th>2</th>\n",
       "      <td>9.0</td>\n",
       "      <td>4.0</td>\n",
       "      <td>1.0</td>\n",
       "      <td>0.117647</td>\n",
       "      <td>2.411538</td>\n",
       "    </tr>\n",
       "    <tr>\n",
       "      <th>3</th>\n",
       "      <td>8.0</td>\n",
       "      <td>2.0</td>\n",
       "      <td>1.0</td>\n",
       "      <td>0.117647</td>\n",
       "      <td>2.578568</td>\n",
       "    </tr>\n",
       "    <tr>\n",
       "      <th>4</th>\n",
       "      <td>6.0</td>\n",
       "      <td>2.0</td>\n",
       "      <td>1.0</td>\n",
       "      <td>0.117647</td>\n",
       "      <td>2.683330</td>\n",
       "    </tr>\n",
       "  </tbody>\n",
       "</table>\n",
       "</div>"
      ],
      "text/plain": [
       "   original  prediction  iterations   epsilon   L2 norm\n",
       "0       7.0         3.0         1.0  0.117647  2.581277\n",
       "1       3.0         5.0         2.0  0.117647  4.625131\n",
       "2       9.0         4.0         1.0  0.117647  2.411538\n",
       "3       8.0         2.0         1.0  0.117647  2.578568\n",
       "4       6.0         2.0         1.0  0.117647  2.683330"
      ]
     },
     "execution_count": 45,
     "metadata": {},
     "output_type": "execute_result"
    }
   ],
   "source": [
    "non_targeted.head()"
   ]
  },
  {
   "cell_type": "code",
   "execution_count": 46,
   "metadata": {},
   "outputs": [
    {
     "data": {
      "image/png": "[encoded data removed]",
      "text/plain": [
       "<Figure size 1440x4320 with 3 Axes>"
      ]
     },
     "metadata": {
      "needs_background": "light"
     },
     "output_type": "display_data"
    }
   ],
   "source": [
    "show([initial[3], CW_adv[3]-initial[3],CW_adv[3]], size=20)"
   ]
  },
  {
   "cell_type": "code",
   "execution_count": 47,
   "metadata": {},
   "outputs": [
    {
     "data": {
      "image/png": "[encoded data removed]",
      "text/plain": [
       "<Figure size 1440x4320 with 3 Axes>"
      ]
     },
     "metadata": {
      "needs_background": "light"
     },
     "output_type": "display_data"
    }
   ],
   "source": [
    "show_no_noise([initial[3], CW_adv[3], adversarial[3]], size=20)"
   ]
  },
  {
   "cell_type": "code",
   "execution_count": 48,
   "metadata": {},
   "outputs": [
    {
     "ename": "ValueError",
     "evalue": "cannot reshape array of size 1 into shape (28,28)",
     "output_type": "error",
     "traceback": [
      "\u001b[1;31m---------------------------------------------------------------------------\u001b[0m",
      "\u001b[1;31mValueError\u001b[0m                                Traceback (most recent call last)",
      "\u001b[1;32m<ipython-input-48-1c2c7f0fa076>\u001b[0m in \u001b[0;36m<module>\u001b[1;34m\u001b[0m\n\u001b[1;32m----> 1\u001b[1;33m \u001b[0mshow_no_noise\u001b[0m\u001b[1;33m(\u001b[0m\u001b[0madversarial\u001b[0m\u001b[1;33m[\u001b[0m\u001b[1;36m3\u001b[0m\u001b[1;33m]\u001b[0m\u001b[1;33m,\u001b[0m \u001b[0msize\u001b[0m\u001b[1;33m=\u001b[0m\u001b[1;36m20\u001b[0m\u001b[1;33m)\u001b[0m\u001b[1;33m\u001b[0m\u001b[1;33m\u001b[0m\u001b[0m\n\u001b[0m",
      "\u001b[1;32m<ipython-input-34-36d6cf9bd935>\u001b[0m in \u001b[0;36mshow_no_noise\u001b[1;34m(examples, size)\u001b[0m\n\u001b[0;32m      4\u001b[0m     \u001b[1;32mfor\u001b[0m \u001b[1;33m(\u001b[0m\u001b[0mi\u001b[0m\u001b[1;33m,\u001b[0m \u001b[0me\u001b[0m\u001b[1;33m)\u001b[0m \u001b[1;32min\u001b[0m \u001b[0menumerate\u001b[0m\u001b[1;33m(\u001b[0m\u001b[0mexamples\u001b[0m\u001b[1;33m)\u001b[0m\u001b[1;33m:\u001b[0m\u001b[1;33m\u001b[0m\u001b[1;33m\u001b[0m\u001b[0m\n\u001b[0;32m      5\u001b[0m         \u001b[1;31m#ax[i].set_title('Класифікація:'+str(cls.predict(e.reshape((1,784)))[0]))\u001b[0m\u001b[1;33m\u001b[0m\u001b[1;33m\u001b[0m\u001b[1;33m\u001b[0m\u001b[0m\n\u001b[1;32m----> 6\u001b[1;33m         ax[i].imshow(e.reshape((28,28)), cmap='gray_r'\n\u001b[0m\u001b[0;32m      7\u001b[0m                      ) #*255 % 255\n\u001b[0;32m      8\u001b[0m         \u001b[0max\u001b[0m\u001b[1;33m[\u001b[0m\u001b[0mi\u001b[0m\u001b[1;33m]\u001b[0m\u001b[1;33m.\u001b[0m\u001b[0maxis\u001b[0m\u001b[1;33m(\u001b[0m\u001b[1;34m'off'\u001b[0m\u001b[1;33m)\u001b[0m\u001b[1;33m\u001b[0m\u001b[1;33m\u001b[0m\u001b[0m\n",
      "\u001b[1;31mValueError\u001b[0m: cannot reshape array of size 1 into shape (28,28)"
     ]
    },
    {
     "ename": "ValueError",
     "evalue": "Image size of 1440x1128960 pixels is too large. It must be less than 2^16 in each direction.",
     "output_type": "error",
     "traceback": [
      "\u001b[1;31m---------------------------------------------------------------------------\u001b[0m",
      "\u001b[1;31mValueError\u001b[0m                                Traceback (most recent call last)",
      "\u001b[1;32mc:\\users\\bobuh\\appdata\\local\\programs\\python\\python38\\lib\\site-packages\\IPython\\core\\formatters.py\u001b[0m in \u001b[0;36m__call__\u001b[1;34m(self, obj)\u001b[0m\n\u001b[0;32m    339\u001b[0m                 \u001b[1;32mpass\u001b[0m\u001b[1;33m\u001b[0m\u001b[1;33m\u001b[0m\u001b[0m\n\u001b[0;32m    340\u001b[0m             \u001b[1;32melse\u001b[0m\u001b[1;33m:\u001b[0m\u001b[1;33m\u001b[0m\u001b[1;33m\u001b[0m\u001b[0m\n\u001b[1;32m--> 341\u001b[1;33m                 \u001b[1;32mreturn\u001b[0m \u001b[0mprinter\u001b[0m\u001b[1;33m(\u001b[0m\u001b[0mobj\u001b[0m\u001b[1;33m)\u001b[0m\u001b[1;33m\u001b[0m\u001b[1;33m\u001b[0m\u001b[0m\n\u001b[0m\u001b[0;32m    342\u001b[0m             \u001b[1;31m# Finally look for special method names\u001b[0m\u001b[1;33m\u001b[0m\u001b[1;33m\u001b[0m\u001b[1;33m\u001b[0m\u001b[0m\n\u001b[0;32m    343\u001b[0m             \u001b[0mmethod\u001b[0m \u001b[1;33m=\u001b[0m \u001b[0mget_real_method\u001b[0m\u001b[1;33m(\u001b[0m\u001b[0mobj\u001b[0m\u001b[1;33m,\u001b[0m \u001b[0mself\u001b[0m\u001b[1;33m.\u001b[0m\u001b[0mprint_method\u001b[0m\u001b[1;33m)\u001b[0m\u001b[1;33m\u001b[0m\u001b[1;33m\u001b[0m\u001b[0m\n",
      "\u001b[1;32mc:\\users\\bobuh\\appdata\\local\\programs\\python\\python38\\lib\\site-packages\\IPython\\core\\pylabtools.py\u001b[0m in \u001b[0;36m<lambda>\u001b[1;34m(fig)\u001b[0m\n\u001b[0;32m    246\u001b[0m \u001b[1;33m\u001b[0m\u001b[0m\n\u001b[0;32m    247\u001b[0m     \u001b[1;32mif\u001b[0m \u001b[1;34m'png'\u001b[0m \u001b[1;32min\u001b[0m \u001b[0mformats\u001b[0m\u001b[1;33m:\u001b[0m\u001b[1;33m\u001b[0m\u001b[1;33m\u001b[0m\u001b[0m\n\u001b[1;32m--> 248\u001b[1;33m         \u001b[0mpng_formatter\u001b[0m\u001b[1;33m.\u001b[0m\u001b[0mfor_type\u001b[0m\u001b[1;33m(\u001b[0m\u001b[0mFigure\u001b[0m\u001b[1;33m,\u001b[0m \u001b[1;32mlambda\u001b[0m \u001b[0mfig\u001b[0m\u001b[1;33m:\u001b[0m \u001b[0mprint_figure\u001b[0m\u001b[1;33m(\u001b[0m\u001b[0mfig\u001b[0m\u001b[1;33m,\u001b[0m \u001b[1;34m'png'\u001b[0m\u001b[1;33m,\u001b[0m \u001b[1;33m**\u001b[0m\u001b[0mkwargs\u001b[0m\u001b[1;33m)\u001b[0m\u001b[1;33m)\u001b[0m\u001b[1;33m\u001b[0m\u001b[1;33m\u001b[0m\u001b[0m\n\u001b[0m\u001b[0;32m    249\u001b[0m     \u001b[1;32mif\u001b[0m \u001b[1;34m'retina'\u001b[0m \u001b[1;32min\u001b[0m \u001b[0mformats\u001b[0m \u001b[1;32mor\u001b[0m \u001b[1;34m'png2x'\u001b[0m \u001b[1;32min\u001b[0m \u001b[0mformats\u001b[0m\u001b[1;33m:\u001b[0m\u001b[1;33m\u001b[0m\u001b[1;33m\u001b[0m\u001b[0m\n\u001b[0;32m    250\u001b[0m         \u001b[0mpng_formatter\u001b[0m\u001b[1;33m.\u001b[0m\u001b[0mfor_type\u001b[0m\u001b[1;33m(\u001b[0m\u001b[0mFigure\u001b[0m\u001b[1;33m,\u001b[0m \u001b[1;32mlambda\u001b[0m \u001b[0mfig\u001b[0m\u001b[1;33m:\u001b[0m \u001b[0mretina_figure\u001b[0m\u001b[1;33m(\u001b[0m\u001b[0mfig\u001b[0m\u001b[1;33m,\u001b[0m \u001b[1;33m**\u001b[0m\u001b[0mkwargs\u001b[0m\u001b[1;33m)\u001b[0m\u001b[1;33m)\u001b[0m\u001b[1;33m\u001b[0m\u001b[1;33m\u001b[0m\u001b[0m\n",
      "\u001b[1;32mc:\\users\\bobuh\\appdata\\local\\programs\\python\\python38\\lib\\site-packages\\IPython\\core\\pylabtools.py\u001b[0m in \u001b[0;36mprint_figure\u001b[1;34m(fig, fmt, bbox_inches, **kwargs)\u001b[0m\n\u001b[0;32m    130\u001b[0m         \u001b[0mFigureCanvasBase\u001b[0m\u001b[1;33m(\u001b[0m\u001b[0mfig\u001b[0m\u001b[1;33m)\u001b[0m\u001b[1;33m\u001b[0m\u001b[1;33m\u001b[0m\u001b[0m\n\u001b[0;32m    131\u001b[0m \u001b[1;33m\u001b[0m\u001b[0m\n\u001b[1;32m--> 132\u001b[1;33m     \u001b[0mfig\u001b[0m\u001b[1;33m.\u001b[0m\u001b[0mcanvas\u001b[0m\u001b[1;33m.\u001b[0m\u001b[0mprint_figure\u001b[0m\u001b[1;33m(\u001b[0m\u001b[0mbytes_io\u001b[0m\u001b[1;33m,\u001b[0m \u001b[1;33m**\u001b[0m\u001b[0mkw\u001b[0m\u001b[1;33m)\u001b[0m\u001b[1;33m\u001b[0m\u001b[1;33m\u001b[0m\u001b[0m\n\u001b[0m\u001b[0;32m    133\u001b[0m     \u001b[0mdata\u001b[0m \u001b[1;33m=\u001b[0m \u001b[0mbytes_io\u001b[0m\u001b[1;33m.\u001b[0m\u001b[0mgetvalue\u001b[0m\u001b[1;33m(\u001b[0m\u001b[1;33m)\u001b[0m\u001b[1;33m\u001b[0m\u001b[1;33m\u001b[0m\u001b[0m\n\u001b[0;32m    134\u001b[0m     \u001b[1;32mif\u001b[0m \u001b[0mfmt\u001b[0m \u001b[1;33m==\u001b[0m \u001b[1;34m'svg'\u001b[0m\u001b[1;33m:\u001b[0m\u001b[1;33m\u001b[0m\u001b[1;33m\u001b[0m\u001b[0m\n",
      "\u001b[1;32mc:\\users\\bobuh\\appdata\\local\\programs\\python\\python38\\lib\\site-packages\\matplotlib\\backend_bases.py\u001b[0m in \u001b[0;36mprint_figure\u001b[1;34m(self, filename, dpi, facecolor, edgecolor, orientation, format, bbox_inches, **kwargs)\u001b[0m\n\u001b[0;32m   2072\u001b[0m             \u001b[1;32mif\u001b[0m \u001b[0mbbox_inches\u001b[0m\u001b[1;33m:\u001b[0m\u001b[1;33m\u001b[0m\u001b[1;33m\u001b[0m\u001b[0m\n\u001b[0;32m   2073\u001b[0m                 \u001b[1;32mif\u001b[0m \u001b[0mbbox_inches\u001b[0m \u001b[1;33m==\u001b[0m \u001b[1;34m\"tight\"\u001b[0m\u001b[1;33m:\u001b[0m\u001b[1;33m\u001b[0m\u001b[1;33m\u001b[0m\u001b[0m\n\u001b[1;32m-> 2074\u001b[1;33m                     renderer = _get_renderer(\n\u001b[0m\u001b[0;32m   2075\u001b[0m                         \u001b[0mself\u001b[0m\u001b[1;33m.\u001b[0m\u001b[0mfigure\u001b[0m\u001b[1;33m,\u001b[0m\u001b[1;33m\u001b[0m\u001b[1;33m\u001b[0m\u001b[0m\n\u001b[0;32m   2076\u001b[0m                         functools.partial(\n",
      "\u001b[1;32mc:\\users\\bobuh\\appdata\\local\\programs\\python\\python38\\lib\\site-packages\\matplotlib\\backend_bases.py\u001b[0m in \u001b[0;36m_get_renderer\u001b[1;34m(figure, print_method, draw_disabled)\u001b[0m\n\u001b[0;32m   1537\u001b[0m     \u001b[1;32mwith\u001b[0m \u001b[0mcbook\u001b[0m\u001b[1;33m.\u001b[0m\u001b[0m_setattr_cm\u001b[0m\u001b[1;33m(\u001b[0m\u001b[0mfigure\u001b[0m\u001b[1;33m,\u001b[0m \u001b[0mdraw\u001b[0m\u001b[1;33m=\u001b[0m\u001b[0m_draw\u001b[0m\u001b[1;33m)\u001b[0m\u001b[1;33m:\u001b[0m\u001b[1;33m\u001b[0m\u001b[1;33m\u001b[0m\u001b[0m\n\u001b[0;32m   1538\u001b[0m         \u001b[1;32mtry\u001b[0m\u001b[1;33m:\u001b[0m\u001b[1;33m\u001b[0m\u001b[1;33m\u001b[0m\u001b[0m\n\u001b[1;32m-> 1539\u001b[1;33m             \u001b[0mprint_method\u001b[0m\u001b[1;33m(\u001b[0m\u001b[0mio\u001b[0m\u001b[1;33m.\u001b[0m\u001b[0mBytesIO\u001b[0m\u001b[1;33m(\u001b[0m\u001b[1;33m)\u001b[0m\u001b[1;33m)\u001b[0m\u001b[1;33m\u001b[0m\u001b[1;33m\u001b[0m\u001b[0m\n\u001b[0m\u001b[0;32m   1540\u001b[0m         \u001b[1;32mexcept\u001b[0m \u001b[0mDone\u001b[0m \u001b[1;32mas\u001b[0m \u001b[0mexc\u001b[0m\u001b[1;33m:\u001b[0m\u001b[1;33m\u001b[0m\u001b[1;33m\u001b[0m\u001b[0m\n\u001b[0;32m   1541\u001b[0m             \u001b[0mrenderer\u001b[0m\u001b[1;33m,\u001b[0m \u001b[1;33m=\u001b[0m \u001b[0mfigure\u001b[0m\u001b[1;33m.\u001b[0m\u001b[0m_cachedRenderer\u001b[0m\u001b[1;33m,\u001b[0m \u001b[1;33m=\u001b[0m \u001b[0mexc\u001b[0m\u001b[1;33m.\u001b[0m\u001b[0margs\u001b[0m\u001b[1;33m\u001b[0m\u001b[1;33m\u001b[0m\u001b[0m\n",
      "\u001b[1;32mc:\\users\\bobuh\\appdata\\local\\programs\\python\\python38\\lib\\site-packages\\matplotlib\\backends\\backend_agg.py\u001b[0m in \u001b[0;36mprint_png\u001b[1;34m(self, filename_or_obj, metadata, pil_kwargs, *args, **kwargs)\u001b[0m\n\u001b[0;32m    512\u001b[0m         }\n\u001b[0;32m    513\u001b[0m \u001b[1;33m\u001b[0m\u001b[0m\n\u001b[1;32m--> 514\u001b[1;33m         \u001b[0mFigureCanvasAgg\u001b[0m\u001b[1;33m.\u001b[0m\u001b[0mdraw\u001b[0m\u001b[1;33m(\u001b[0m\u001b[0mself\u001b[0m\u001b[1;33m)\u001b[0m\u001b[1;33m\u001b[0m\u001b[1;33m\u001b[0m\u001b[0m\n\u001b[0m\u001b[0;32m    515\u001b[0m         \u001b[1;32mif\u001b[0m \u001b[0mpil_kwargs\u001b[0m \u001b[1;32mis\u001b[0m \u001b[1;32mnot\u001b[0m \u001b[1;32mNone\u001b[0m\u001b[1;33m:\u001b[0m\u001b[1;33m\u001b[0m\u001b[1;33m\u001b[0m\u001b[0m\n\u001b[0;32m    516\u001b[0m             \u001b[1;32mfrom\u001b[0m \u001b[0mPIL\u001b[0m \u001b[1;32mimport\u001b[0m \u001b[0mImage\u001b[0m\u001b[1;33m\u001b[0m\u001b[1;33m\u001b[0m\u001b[0m\n",
      "\u001b[1;32mc:\\users\\bobuh\\appdata\\local\\programs\\python\\python38\\lib\\site-packages\\matplotlib\\backends\\backend_agg.py\u001b[0m in \u001b[0;36mdraw\u001b[1;34m(self)\u001b[0m\n\u001b[0;32m    386\u001b[0m         \u001b[0mDraw\u001b[0m \u001b[0mthe\u001b[0m \u001b[0mfigure\u001b[0m \u001b[0musing\u001b[0m \u001b[0mthe\u001b[0m \u001b[0mrenderer\u001b[0m\u001b[1;33m.\u001b[0m\u001b[1;33m\u001b[0m\u001b[1;33m\u001b[0m\u001b[0m\n\u001b[0;32m    387\u001b[0m         \"\"\"\n\u001b[1;32m--> 388\u001b[1;33m         \u001b[0mself\u001b[0m\u001b[1;33m.\u001b[0m\u001b[0mrenderer\u001b[0m \u001b[1;33m=\u001b[0m \u001b[0mself\u001b[0m\u001b[1;33m.\u001b[0m\u001b[0mget_renderer\u001b[0m\u001b[1;33m(\u001b[0m\u001b[0mcleared\u001b[0m\u001b[1;33m=\u001b[0m\u001b[1;32mTrue\u001b[0m\u001b[1;33m)\u001b[0m\u001b[1;33m\u001b[0m\u001b[1;33m\u001b[0m\u001b[0m\n\u001b[0m\u001b[0;32m    389\u001b[0m         \u001b[1;31m# Acquire a lock on the shared font cache.\u001b[0m\u001b[1;33m\u001b[0m\u001b[1;33m\u001b[0m\u001b[1;33m\u001b[0m\u001b[0m\n\u001b[0;32m    390\u001b[0m         \u001b[1;32mwith\u001b[0m \u001b[0mRendererAgg\u001b[0m\u001b[1;33m.\u001b[0m\u001b[0mlock\u001b[0m\u001b[1;33m,\u001b[0m\u001b[0;31m \u001b[0m\u001b[0;31m\\\u001b[0m\u001b[1;33m\u001b[0m\u001b[1;33m\u001b[0m\u001b[0m\n",
      "\u001b[1;32mc:\\users\\bobuh\\appdata\\local\\programs\\python\\python38\\lib\\site-packages\\matplotlib\\backends\\backend_agg.py\u001b[0m in \u001b[0;36mget_renderer\u001b[1;34m(self, cleared)\u001b[0m\n\u001b[0;32m    402\u001b[0m                           and getattr(self, \"_lastKey\", None) == key)\n\u001b[0;32m    403\u001b[0m         \u001b[1;32mif\u001b[0m \u001b[1;32mnot\u001b[0m \u001b[0mreuse_renderer\u001b[0m\u001b[1;33m:\u001b[0m\u001b[1;33m\u001b[0m\u001b[1;33m\u001b[0m\u001b[0m\n\u001b[1;32m--> 404\u001b[1;33m             \u001b[0mself\u001b[0m\u001b[1;33m.\u001b[0m\u001b[0mrenderer\u001b[0m \u001b[1;33m=\u001b[0m \u001b[0mRendererAgg\u001b[0m\u001b[1;33m(\u001b[0m\u001b[0mw\u001b[0m\u001b[1;33m,\u001b[0m \u001b[0mh\u001b[0m\u001b[1;33m,\u001b[0m \u001b[0mself\u001b[0m\u001b[1;33m.\u001b[0m\u001b[0mfigure\u001b[0m\u001b[1;33m.\u001b[0m\u001b[0mdpi\u001b[0m\u001b[1;33m)\u001b[0m\u001b[1;33m\u001b[0m\u001b[1;33m\u001b[0m\u001b[0m\n\u001b[0m\u001b[0;32m    405\u001b[0m             \u001b[0mself\u001b[0m\u001b[1;33m.\u001b[0m\u001b[0m_lastKey\u001b[0m \u001b[1;33m=\u001b[0m \u001b[0mkey\u001b[0m\u001b[1;33m\u001b[0m\u001b[1;33m\u001b[0m\u001b[0m\n\u001b[0;32m    406\u001b[0m         \u001b[1;32melif\u001b[0m \u001b[0mcleared\u001b[0m\u001b[1;33m:\u001b[0m\u001b[1;33m\u001b[0m\u001b[1;33m\u001b[0m\u001b[0m\n",
      "\u001b[1;32mc:\\users\\bobuh\\appdata\\local\\programs\\python\\python38\\lib\\site-packages\\matplotlib\\backends\\backend_agg.py\u001b[0m in \u001b[0;36m__init__\u001b[1;34m(self, width, height, dpi)\u001b[0m\n\u001b[0;32m     90\u001b[0m         \u001b[0mself\u001b[0m\u001b[1;33m.\u001b[0m\u001b[0mwidth\u001b[0m \u001b[1;33m=\u001b[0m \u001b[0mwidth\u001b[0m\u001b[1;33m\u001b[0m\u001b[1;33m\u001b[0m\u001b[0m\n\u001b[0;32m     91\u001b[0m         \u001b[0mself\u001b[0m\u001b[1;33m.\u001b[0m\u001b[0mheight\u001b[0m \u001b[1;33m=\u001b[0m \u001b[0mheight\u001b[0m\u001b[1;33m\u001b[0m\u001b[1;33m\u001b[0m\u001b[0m\n\u001b[1;32m---> 92\u001b[1;33m         \u001b[0mself\u001b[0m\u001b[1;33m.\u001b[0m\u001b[0m_renderer\u001b[0m \u001b[1;33m=\u001b[0m \u001b[0m_RendererAgg\u001b[0m\u001b[1;33m(\u001b[0m\u001b[0mint\u001b[0m\u001b[1;33m(\u001b[0m\u001b[0mwidth\u001b[0m\u001b[1;33m)\u001b[0m\u001b[1;33m,\u001b[0m \u001b[0mint\u001b[0m\u001b[1;33m(\u001b[0m\u001b[0mheight\u001b[0m\u001b[1;33m)\u001b[0m\u001b[1;33m,\u001b[0m \u001b[0mdpi\u001b[0m\u001b[1;33m)\u001b[0m\u001b[1;33m\u001b[0m\u001b[1;33m\u001b[0m\u001b[0m\n\u001b[0m\u001b[0;32m     93\u001b[0m         \u001b[0mself\u001b[0m\u001b[1;33m.\u001b[0m\u001b[0m_filter_renderers\u001b[0m \u001b[1;33m=\u001b[0m \u001b[1;33m[\u001b[0m\u001b[1;33m]\u001b[0m\u001b[1;33m\u001b[0m\u001b[1;33m\u001b[0m\u001b[0m\n\u001b[0;32m     94\u001b[0m \u001b[1;33m\u001b[0m\u001b[0m\n",
      "\u001b[1;31mValueError\u001b[0m: Image size of 1440x1128960 pixels is too large. It must be less than 2^16 in each direction."
     ]
    },
    {
     "data": {
      "text/plain": [
       "<Figure size 1440x1.12896e+06 with 784 Axes>"
      ]
     },
     "metadata": {
      "needs_background": "light"
     },
     "output_type": "display_data"
    }
   ],
   "source": [
    "show_no_noise(adversarial[3], size=20)"
   ]
  },
  {
   "cell_type": "code",
   "execution_count": null,
   "metadata": {},
   "outputs": [],
   "source": [
    "fig = show_all([CW_adv[:7],CW_adv[7:15],CW_adv[15:22]], 15,'FGSM-adv')\n",
    "fig.savefig('CW-adv.pdf', bbox_inches = 'tight', pad_inches = 0)"
   ]
  },
  {
   "cell_type": "code",
   "execution_count": null,
   "metadata": {},
   "outputs": [],
   "source": [
    "CW_non_targeted# = non_targeted"
   ]
  },
  {
   "cell_type": "code",
   "execution_count": null,
   "metadata": {},
   "outputs": [],
   "source": [
    "non_targeted"
   ]
  },
  {
   "cell_type": "code",
   "execution_count": null,
   "metadata": {},
   "outputs": [],
   "source": [
    "non_targeted['L2 norm'].mean()"
   ]
  },
  {
   "cell_type": "code",
   "execution_count": null,
   "metadata": {},
   "outputs": [],
   "source": [
    "47427/75"
   ]
  },
  {
   "cell_type": "markdown",
   "metadata": {},
   "source": [
    "### Accuracy by L2 norm"
   ]
  },
  {
   "cell_type": "code",
   "execution_count": null,
   "metadata": {},
   "outputs": [],
   "source": [
    "L2_cw = L2_norm(CW_adv - X_test[:300], axis=1)[:293]\n",
    "L2_cw.sort()"
   ]
  },
  {
   "cell_type": "code",
   "execution_count": null,
   "metadata": {},
   "outputs": [],
   "source": [
    "L2_cw[:10]"
   ]
  },
  {
   "cell_type": "code",
   "execution_count": null,
   "metadata": {},
   "outputs": [],
   "source": [
    "L2_n = non_targeted['L2 norm'].values\n",
    "L2_n.sort()"
   ]
  },
  {
   "cell_type": "code",
   "execution_count": null,
   "metadata": {},
   "outputs": [],
   "source": [
    "targeted = targeted.sort_values('iterations')\n"
   ]
  },
  {
   "cell_type": "code",
   "execution_count": null,
   "metadata": {},
   "outputs": [],
   "source": [
    "\n",
    "targeted['L2 norm'].mean()"
   ]
  },
  {
   "cell_type": "code",
   "execution_count": null,
   "metadata": {},
   "outputs": [],
   "source": [
    "accuracy_t = np.flip([0,  0.1, 0.2, 0.3, 0.4, 0.5, 0.6, 0.7, 0.8, 0.9])\n",
    "L2_cw_a = []\n",
    "for i in range(len(L2_cw)//10, len(L2_cw), len(L2_cw)//10):\n",
    "    print(i)\n",
    "    L2_cw_a.append(L2_cw[:i].mean())\n",
    "    \n",
    "#L2_cw.append(CW_non_targeted['L2 norm'].mean())"
   ]
  },
  {
   "cell_type": "code",
   "execution_count": null,
   "metadata": {},
   "outputs": [],
   "source": [
    "plt.scatter(L2_cw,accuracy_cw, label='cw')"
   ]
  },
  {
   "cell_type": "code",
   "execution_count": null,
   "metadata": {},
   "outputs": [],
   "source": [
    "fig = plt.figure(figsize=(10,5))\n",
    "ax1 = fig.add_subplot(111)\n",
    "\n",
    "\n",
    "ax1.plot(L2_n_a, accuracy_t, 'o-.', label='FGSM')\n",
    "ax1.plot(L2_cw_a,accuracy_t, 'o-.', label='C&W')\n",
    "#ax1.plot(L2_t, accuracy_t, 'o-.', label='TFGSM')\n",
    "plt.ylabel('Accuracy')\n",
    "plt.xlabel('$L_2$ distance')\n",
    "plt.legend()\n",
    "plt.grid()\n",
    "plt.savefig(\"CW.pdf\", bbox_inches = 'tight', pad_inches = 0)\n",
    "#plt.title('Accuracy score breakdown')"
   ]
  },
  {
   "cell_type": "code",
   "execution_count": null,
   "metadata": {},
   "outputs": [],
   "source": [
    "len(men_means)"
   ]
  },
  {
   "cell_type": "code",
   "execution_count": null,
   "metadata": {},
   "outputs": [],
   "source": [
    "labels = ['0%','10%', '20%', '30%', '40%', '50%', '60%', '70%', '80%', '90%']\n",
    "men_means = L2_cw\n",
    "women_means = L2_n\n",
    "\n",
    "x = np.arange(len(labels))  # the label locations\n",
    "width = 0.35  # the width of the bars\n",
    "\n",
    "fig, ax = plt.subplots()\n",
    "rects1 = ax.bar(x - width/2, men_means, width, label='C&W')\n",
    "rects2 = ax.bar(x + width/2, women_means, width, label='FGSM')\n",
    "\n",
    "# Add some text for labels, title and custom x-axis tick labels, etc.\n",
    "ax.set_ylabel('$L_2 distance$')\n",
    "ax.set_ylabel('$L_2 distance$')\n",
    "\n",
    "ax.set_xticks(x)\n",
    "ax.set_xticklabels(labels)\n",
    "ax.legend()\n",
    "\n",
    "'''\n",
    "def autolabel(rects):\n",
    "    \"\"\"Attach a text label above each bar in *rects*, displaying its height.\"\"\"\n",
    "    for rect in rects:\n",
    "        height = rect.get_height()\n",
    "        ax.annotate('{}'.format(height),\n",
    "                    xy=(rect.get_x() + rect.get_width() / 2, height),\n",
    "                    xytext=(0, 3),  # 3 points vertical offset\n",
    "                    textcoords=\"offset points\",\n",
    "                    ha='center', va='bottom')\n",
    "\n",
    "\n",
    "autolabel(rects1)\n",
    "autolabel(rects2)\n",
    "'''\n",
    "fig.tight_layout()\n",
    "\n",
    "plt.show()\n",
    "fig.savefig(\"CW-bar.pdf\", bbox_inches = 'tight', pad_inches = 0)"
   ]
  },
  {
   "cell_type": "markdown",
   "metadata": {},
   "source": [
    "### pretrub by norm"
   ]
  },
  {
   "cell_type": "code",
   "execution_count": null,
   "metadata": {},
   "outputs": [],
   "source": [
    "non_targeted = non_targeted.sort_values(\"iterations\")"
   ]
  },
  {
   "cell_type": "code",
   "execution_count": null,
   "metadata": {},
   "outputs": [],
   "source": [
    "pretrub_by_iter = non_targeted.groupby('iterations', as_index=False)['L2 norm'].mean()\n",
    "pretrub_by_iter = pretrub_by_iter.sort_values(\"iterations\")"
   ]
  },
  {
   "cell_type": "code",
   "execution_count": null,
   "metadata": {},
   "outputs": [],
   "source": [
    "plt.plot(pretrub_by_iter['iterations'], pretrub_by_iter['L2 norm'])"
   ]
  },
  {
   "cell_type": "markdown",
   "metadata": {},
   "source": [
    "### Accuracy per iteration"
   ]
  },
  {
   "cell_type": "code",
   "execution_count": null,
   "metadata": {},
   "outputs": [],
   "source": [
    "accuracy_n = []\n",
    "for iter in pretrub_by_iter[\"iterations\"].values:\n",
    "    accuracy_n.append(1 - non_targeted[non_targeted[\"iterations\"]<=iter].shape[0]/total_attempts)"
   ]
  },
  {
   "cell_type": "code",
   "execution_count": null,
   "metadata": {},
   "outputs": [],
   "source": [
    "iterations_n = pretrub_by_iter[\"iterations\"].values"
   ]
  },
  {
   "cell_type": "code",
   "execution_count": null,
   "metadata": {},
   "outputs": [],
   "source": [
    "plt.plot(iterations_n, accuracy_n)"
   ]
  },
  {
   "cell_type": "markdown",
   "metadata": {},
   "source": [
    "### Epsilon vs L2 norm"
   ]
  },
  {
   "cell_type": "code",
   "execution_count": null,
   "metadata": {},
   "outputs": [],
   "source": [
    "step = 1/255\n",
    "epsilon = [step, step*10, step*50, step*100, step*255]\n",
    "epsilon"
   ]
  },
  {
   "cell_type": "code",
   "execution_count": null,
   "metadata": {},
   "outputs": [],
   "source": [
    "np.sum(L2_norm(CW_adv - initial))/len(adversarial)"
   ]
  },
  {
   "cell_type": "markdown",
   "metadata": {},
   "source": [
    "Для цільвої атаки стає важче знайти ошукуючий зразок при збільшенні епсилон"
   ]
  },
  {
   "cell_type": "code",
   "execution_count": null,
   "metadata": {},
   "outputs": [],
   "source": [
    "L2_norm_ = [1.6376050113543472, 1.9951885870928328, 3.889854064462953, 7.464027117760714, 18.314954545259]\n",
    "L2_norm_"
   ]
  },
  {
   "cell_type": "code",
   "execution_count": null,
   "metadata": {},
   "outputs": [],
   "source": [
    "plt.plot(epsilon, L2_norm_)"
   ]
  },
  {
   "cell_type": "code",
   "execution_count": null,
   "metadata": {},
   "outputs": [],
   "source": [
    "plt.figure(figsize=(10,5))\n",
    "FGSM_t, = plt.plot(iterations_t, accuracy_t, 'g-', label='TFGSM')\n",
    "FGSM, = plt.plot(iterations_n, accuracy_n, 'r-', label='FGSM')\n",
    "plt.ylabel('Accuracy')\n",
    "plt.xlabel('Iterations')\n",
    "plt.legend(handles=[FGSM_t, FGSM])\n",
    "plt.grid()\n",
    "plt.savefig(\"FGSM-accuracy.pdf\", bbox_inches = 'tight', pad_inches = 0)\n",
    "#plt.title('Accuracy score breakdown')"
   ]
  },
  {
   "cell_type": "markdown",
   "metadata": {},
   "source": [
    "### Epsilon vs iterations"
   ]
  },
  {
   "cell_type": "code",
   "execution_count": null,
   "metadata": {},
   "outputs": [],
   "source": [
    "non_targeted.head()"
   ]
  },
  {
   "cell_type": "code",
   "execution_count": null,
   "metadata": {},
   "outputs": [],
   "source": [
    "eps_iter = non_targeted.groupby('epsilon', as_index=False)['iterations'].mean()\n",
    "eps_iter"
   ]
  },
  {
   "cell_type": "code",
   "execution_count": null,
   "metadata": {},
   "outputs": [],
   "source": [
    "plt.figure(figsize=(10,5))\n",
    "EI, = plt.plot(eps_iter['iterations'], eps_iter['epsilon'], '.-')\n",
    "plt.ylabel('Epsilon')\n",
    "plt.xlabel('Iterations')\n",
    "plt.legend(handles=[EI])\n",
    "plt.grid()\n",
    "plt.savefig(\"epsilon-iter.pdf\", bbox_inches = 'tight', pad_inches = 0)\n",
    "#plt.title('Accuracy score breakdown')"
   ]
  },
  {
   "cell_type": "code",
   "execution_count": null,
   "metadata": {},
   "outputs": [],
   "source": []
  },
  {
   "cell_type": "code",
   "execution_count": null,
   "metadata": {},
   "outputs": [],
   "source": [
    "total_attempts"
   ]
  },
  {
   "cell_type": "code",
   "execution_count": null,
   "metadata": {},
   "outputs": [],
   "source": [
    "accuracy_score(Y_test_c, y_hat_adv)"
   ]
  },
  {
   "cell_type": "code",
   "execution_count": null,
   "metadata": {},
   "outputs": [],
   "source": [
    "np.sum(df['successful attempts'].values) / total_attempts"
   ]
  },
  {
   "cell_type": "code",
   "execution_count": null,
   "metadata": {
    "scrolled": false
   },
   "outputs": [],
   "source": [
    "#print(cls.predict(example))\n",
    "\n",
    "noise = adversarial-initial\n",
    "\n",
    "for i in range(10):#adversarial.shape[0]):# [3,5,6,10,13,14]:#\n",
    "    show([initial[i], noise[i], (initial+noise)[i]], size=7)\n",
    "    \n",
    "plt.savefig(\"zoo.pdf\", bbox_inches = 'tight', pad_inches = 0)"
   ]
  },
  {
   "cell_type": "code",
   "execution_count": null,
   "metadata": {},
   "outputs": [],
   "source": [
    "show([instance[0], instance[0]-X_test[5:6][0]])"
   ]
  },
  {
   "cell_type": "code",
   "execution_count": null,
   "metadata": {},
   "outputs": [],
   "source": [
    "FGSM_noise = noise"
   ]
  },
  {
   "cell_type": "code",
   "execution_count": null,
   "metadata": {},
   "outputs": [],
   "source": [
    "np.sum(L2_norm(FGSM_noise))"
   ]
  },
  {
   "cell_type": "code",
   "execution_count": null,
   "metadata": {},
   "outputs": [],
   "source": [
    "ADAM_noise = noise"
   ]
  },
  {
   "cell_type": "code",
   "execution_count": null,
   "metadata": {},
   "outputs": [],
   "source": [
    "np.sum(L2_norm(ADAM_noise))"
   ]
  },
  {
   "cell_type": "code",
   "execution_count": null,
   "metadata": {},
   "outputs": [],
   "source": [
    "L2_noise = noise"
   ]
  },
  {
   "cell_type": "code",
   "execution_count": null,
   "metadata": {},
   "outputs": [],
   "source": [
    "np.sum(L2_norm(L2_noise))"
   ]
  },
  {
   "cell_type": "code",
   "execution_count": null,
   "metadata": {},
   "outputs": [],
   "source": [
    "fig, = plt.figure(figsize=(10,5))\n",
    "gm, = plt.plot(attack.epsilons, non_targeted_scores, 'g*', label='gradient method')\n",
    "gsm, = plt.plot(attack.epsilons, attack.scores, 'r*', label='gradient sign method')\n",
    "plt.ylabel('accuracy_score')\n",
    "plt.xlabel('eta')\n",
    "plt.legend(handles=[gm, gsm])\n",
    "plt.title('Accuracy score breakdown')"
   ]
  },
  {
   "cell_type": "code",
   "execution_count": null,
   "metadata": {},
   "outputs": [],
   "source": [
    "cls.predict(adversarial)"
   ]
  },
  {
   "cell_type": "code",
   "execution_count": null,
   "metadata": {},
   "outputs": [],
   "source": []
  },
  {
   "cell_type": "code",
   "execution_count": null,
   "metadata": {},
   "outputs": [],
   "source": []
  },
  {
   "cell_type": "code",
   "execution_count": null,
   "metadata": {},
   "outputs": [],
   "source": []
  },
  {
   "cell_type": "code",
   "execution_count": null,
   "metadata": {},
   "outputs": [],
   "source": [
    "np.sum(initial>1)"
   ]
  },
  {
   "cell_type": "code",
   "execution_count": null,
   "metadata": {},
   "outputs": [],
   "source": [
    "np.zeros((X_test.shape[0], 10))+[1 if i == 1 else 0 for i in range(10)]"
   ]
  },
  {
   "cell_type": "code",
   "execution_count": null,
   "metadata": {},
   "outputs": [],
   "source": [
    "df[df.target == 1]"
   ]
  },
  {
   "cell_type": "code",
   "execution_count": null,
   "metadata": {},
   "outputs": [],
   "source": [
    "cls.predict(example.T).shape"
   ]
  },
  {
   "cell_type": "markdown",
   "metadata": {},
   "source": [
    "### Iterative attack"
   ]
  },
  {
   "cell_type": "code",
   "execution_count": null,
   "metadata": {},
   "outputs": [],
   "source": [
    "instance = X_test[7:10].copy()\n",
    "Y_test[7:10]"
   ]
  },
  {
   "cell_type": "code",
   "execution_count": null,
   "metadata": {},
   "outputs": [],
   "source": [
    "cls.predict(instance)"
   ]
  },
  {
   "cell_type": "code",
   "execution_count": null,
   "metadata": {},
   "outputs": [],
   "source": [
    "target = np.array([[0, 1, 0, 0, 0, 0, 0, 0, 0, 0], [0, 0, 0, 0, 0, 1, 0, 0, 0, 0], [1, 0, 0, 0, 0, 0, 0, 0, 0, 0]])"
   ]
  },
  {
   "cell_type": "code",
   "execution_count": null,
   "metadata": {},
   "outputs": [],
   "source": [
    "example = attack.attack(instance, target, 2000, adapting_rate=0.01)"
   ]
  },
  {
   "cell_type": "code",
   "execution_count": 33,
   "metadata": {},
   "outputs": [],
   "source": [
    "def show(examples, size=3):\n",
    "    n = len(examples)\n",
    "    fig, ax = plt.subplots(1,n, figsize=(size, size*n))\n",
    "    for (i, e) in enumerate(examples):\n",
    "        ax[i].set_title('Класифікація:'+str(cls.predict(e.reshape((1,784)))[0]))\n",
    "        ax[i].imshow(e.reshape((28,28)), cmap=('coolwarm' if i%3==1 else 'gray_r'),\n",
    "                     vmin=(-1 if i%3==1 else 0), vmax=1) #*255 % 255\n",
    "        ax[i].axis('off')"
   ]
  },
  {
   "cell_type": "code",
   "execution_count": 34,
   "metadata": {},
   "outputs": [],
   "source": [
    "def show_no_noise(examples, size=3):\n",
    "    n = len(examples)\n",
    "    fig, ax = plt.subplots(1,n, figsize=(size, size*n))\n",
    "    for (i, e) in enumerate(examples):\n",
    "        #ax[i].set_title('Класифікація:'+str(cls.predict(e.reshape((1,784)))[0]))\n",
    "        ax[i].imshow(e.reshape((28,28)), cmap='gray_r'\n",
    "                     ) #*255 % 255\n",
    "        ax[i].axis('off')"
   ]
  },
  {
   "cell_type": "code",
   "execution_count": 35,
   "metadata": {},
   "outputs": [],
   "source": [
    "def show_all(examples, size =15, name='adversarial'):\n",
    "    n = len(examples)\n",
    "    fig, ax = plt.subplots(3,7, figsize=(size, 6))\n",
    "    for i in range(3):\n",
    "      for j in range(7):\n",
    "        \n",
    "        ax[i][j].set_title('Класифікація:'+str(cls.predict(examples[i][j].reshape((1,784)))[0]))\n",
    "        ax[i][j].imshow(examples[i][j].reshape((28,28)), cmap='gray_r') #*255 % 255\n",
    "        ax[i][j].axis('off')\n",
    "        \n",
    "    return fig"
   ]
  },
  {
   "cell_type": "code",
   "execution_count": 36,
   "metadata": {},
   "outputs": [],
   "source": [
    "def show_all_lab(examples, labels, size =15, name='adversarial'):\n",
    "    n = len(examples)\n",
    "    fig, ax = plt.subplots(3,7, figsize=(size, 6))\n",
    "    for i in range(3):\n",
    "      for j in range(7):\n",
    "        \n",
    "        ax[i][j].set_title('Класифікація:'+str(labels[i][j][0]))\n",
    "        ax[i][j].imshow(examples[i][j].reshape((28,28)), cmap='gray_r') #*255 % 255\n",
    "        ax[i][j].axis('off')\n",
    "        \n",
    "    return fig"
   ]
  },
  {
   "cell_type": "code",
   "execution_count": null,
   "metadata": {},
   "outputs": [],
   "source": [
    "fig = show_all_lab([CW_adv[:7],CW_adv[7:15],CW_adv[15:22]], [adv_labels[:7],adv_labels[7:15],adv_labels[15:22]])"
   ]
  },
  {
   "cell_type": "code",
   "execution_count": null,
   "metadata": {},
   "outputs": [],
   "source": [
    "fig.savefig(\"CW-adv.pdf\", bbox_inches = 'tight', pad_inches = 0)"
   ]
  },
  {
   "cell_type": "code",
   "execution_count": null,
   "metadata": {},
   "outputs": [],
   "source": [
    "[adversarial[:7],adversarial[7:15],adversarial[15:22]]"
   ]
  },
  {
   "cell_type": "code",
   "execution_count": null,
   "metadata": {},
   "outputs": [],
   "source": [
    "show_all([adversarial[:7],adversarial[7:15],adversarial[15:22]])"
   ]
  },
  {
   "cell_type": "code",
   "execution_count": null,
   "metadata": {},
   "outputs": [],
   "source": [
    "for i in range(example.shape[1]):\n",
    "    show([example.T[i], instance[i], (example.T-instance)[i]])\n",
    "    "
   ]
  },
  {
   "cell_type": "code",
   "execution_count": null,
   "metadata": {},
   "outputs": [],
   "source": [
    "L2_norm(example.T - instance, axis=1)"
   ]
  },
  {
   "cell_type": "code",
   "execution_count": null,
   "metadata": {},
   "outputs": [],
   "source": [
    "L2_norm(example_L2.T - instance, axis=1)"
   ]
  },
  {
   "cell_type": "code",
   "execution_count": null,
   "metadata": {},
   "outputs": [],
   "source": [
    "np.sum(example.T != instance)"
   ]
  },
  {
   "cell_type": "code",
   "execution_count": null,
   "metadata": {},
   "outputs": [],
   "source": [
    "cls.predict(example.T)"
   ]
  },
  {
   "cell_type": "code",
   "execution_count": null,
   "metadata": {},
   "outputs": [],
   "source": [
    "cls.predict(instance)"
   ]
  },
  {
   "cell_type": "code",
   "execution_count": null,
   "metadata": {},
   "outputs": [],
   "source": [
    "example_L2 = example"
   ]
  },
  {
   "cell_type": "code",
   "execution_count": null,
   "metadata": {},
   "outputs": [],
   "source": []
  }
 ],
 "metadata": {
  "anaconda-cloud": {},
  "kernelspec": {
   "display_name": "Python 3",
   "language": "python",
   "name": "python3"
  },
  "language_info": {
   "codemirror_mode": {
    "name": "ipython",
    "version": 3
   },
   "file_extension": ".py",
   "mimetype": "text/x-python",
   "name": "python",
   "nbconvert_exporter": "python",
   "pygments_lexer": "ipython3",
   "version": "3.8.2"
  }
 },
 "nbformat": 4,
 "nbformat_minor": 1
}
