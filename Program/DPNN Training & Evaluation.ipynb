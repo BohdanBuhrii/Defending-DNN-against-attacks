{
 "cells": [
  {
   "cell_type": "code",
   "execution_count": 3,
   "metadata": {},
   "outputs": [],
   "source": [
    "import numpy as np\n",
    "import pandas as pd\n",
    "from sklearn.model_selection import train_test_split\n",
    "from mpl_toolkits.mplot3d import Axes3D\n",
    "import matplotlib.pyplot as plt\n",
    "\n",
    "from matplotlib.colors import ListedColormap\n",
    "%matplotlib inline\n",
    "from sklearn.metrics import accuracy_score\n",
    "from sklearn.preprocessing import OneHotEncoder\n",
    "import sklearn.linear_model\n",
    "import os.path\n",
    "\n",
    "import time\n",
    "\n",
    "from NeuralNet import NeuralNet\n",
    "from utils.json import *\n",
    "from utils.nnsetup import *\n",
    "from utils.attackperformance import *\n",
    "\n",
    "np.random.seed(1)"
   ]
  },
  {
   "cell_type": "code",
   "execution_count": 4,
   "metadata": {},
   "outputs": [],
   "source": [
    "X_train, Y_train, Y_train_e, X_test, Y_test = get_datasets()"
   ]
  },
  {
   "cell_type": "code",
   "execution_count": 114,
   "metadata": {},
   "outputs": [],
   "source": [
    "cls = NeuralNet(layer_dims = [784, 60, 10], learning_rate = 0.1, num_iter = 300,\n",
    "                normalize = False, mini_batch_size=2048)\n",
    "\n",
    "cls = getNN(\"nets/main_nn_300\")"
   ]
  },
  {
   "cell_type": "code",
   "execution_count": 115,
   "metadata": {},
   "outputs": [
    {
     "name": "stdout",
     "output_type": "stream",
     "text": [
      "0.9702678571428571\n",
      "0.9580952380952381\n"
     ]
    }
   ],
   "source": [
    "Y_train_hat = cls.predict(X_train)\n",
    "Y_test_hat = cls.predict(X_test)\n",
    "\n",
    "print(accuracy_score(Y_train, Y_train_hat))\n",
    "print(accuracy_score(Y_test, Y_test_hat))"
   ]
  },
  {
   "cell_type": "markdown",
   "metadata": {},
   "source": [
    "## Pixel DP defense"
   ]
  },
  {
   "cell_type": "code",
   "execution_count": null,
   "metadata": {},
   "outputs": [],
   "source": [
    "cls_dp = NeuralNet(layer_dims = [784, 60, 10], learning_rate = 0.1, num_iter = 300,\n",
    "                     normalize = False, mini_batch_size=2048,\n",
    "                     noise_layer=1, noise_layer_sensitivity=1, noise_type='Laplacian',\n",
    "                     attack_size=1, eps=1)"
   ]
  },
  {
   "cell_type": "code",
   "execution_count": null,
   "metadata": {},
   "outputs": [],
   "source": [
    "cls_dp.fit(X_train, Y_train)"
   ]
  },
  {
   "cell_type": "code",
   "execution_count": 186,
   "metadata": {},
   "outputs": [],
   "source": [
    "cls_dp = getNN(\"nets/main_nn_300\")\n",
    "cls_dp.noise_layer = 1\n",
    "cls_dp.noise_layer_sensitivity = 2\n",
    "cls_dp.noise_type = 'Laplacian'\n",
    "cls_dp.attack_size = 1\n",
    "cls_dp.eps=1"
   ]
  },
  {
   "cell_type": "code",
   "execution_count": 187,
   "metadata": {},
   "outputs": [
    {
     "data": {
      "text/plain": [
       "100"
      ]
     },
     "execution_count": 187,
     "metadata": {},
     "output_type": "execute_result"
    }
   ],
   "source": [
    "cls_dp.num_iter"
   ]
  },
  {
   "cell_type": "code",
   "execution_count": 188,
   "metadata": {},
   "outputs": [
    {
     "name": "stdout",
     "output_type": "stream",
     "text": [
      "0.20163690476190477\n",
      "0.2025\n"
     ]
    }
   ],
   "source": [
    "Y_train_hat = cls_dp.predict(X_train)\n",
    "Y_test_hat = cls_dp.predict(X_test)\n",
    "\n",
    "print(accuracy_score(Y_train, Y_train_hat))\n",
    "print(accuracy_score(Y_test, Y_test_hat))"
   ]
  },
  {
   "cell_type": "code",
   "execution_count": 191,
   "metadata": {},
   "outputs": [],
   "source": [
    "cls_dp.n_expected_scores = 40"
   ]
  },
  {
   "cell_type": "code",
   "execution_count": 192,
   "metadata": {},
   "outputs": [
    {
     "name": "stdout",
     "output_type": "stream",
     "text": [
      "0.519\n",
      "0.536\n"
     ]
    }
   ],
   "source": [
    "n = 1000\n",
    "\n",
    "Y_train_hat = cls_dp.predict(X_train[:n].copy())\n",
    "Y_test_hat = cls_dp.predict(X_test[:n].copy())\n",
    "\n",
    "print(accuracy_score(Y_train[:n], Y_train_hat))\n",
    "print(accuracy_score(Y_test[:n], Y_test_hat))"
   ]
  },
  {
   "cell_type": "markdown",
   "metadata": {},
   "source": [
    "## Attact test"
   ]
  },
  {
   "cell_type": "code",
   "execution_count": 169,
   "metadata": {},
   "outputs": [],
   "source": [
    "attack = Attack(cls_dp)"
   ]
  },
  {
   "cell_type": "code",
   "execution_count": 159,
   "metadata": {},
   "outputs": [],
   "source": [
    "cls_dp.n_expected_scores = 10"
   ]
  },
  {
   "cell_type": "code",
   "execution_count": 170,
   "metadata": {},
   "outputs": [],
   "source": [
    "test_size = 1000\n",
    "X_test_c = X_test[:test_size].copy()\n",
    "Y_test_c = Y_test[:test_size].copy()\n",
    "Y_test_e = np.array([[1 if i == y[0] else 0 for i in range(10)] for y in Y_test_c])"
   ]
  },
  {
   "cell_type": "code",
   "execution_count": 171,
   "metadata": {},
   "outputs": [],
   "source": [
    "max_iterations = 1\n",
    "epsilon = 1/255\n",
    "x_adv = attack.attack_on_dp(X_test_c,\n",
    "                            Y_test_e,\\\n",
    "                            'FGSM',\\\n",
    "                            max_iterations,\\\n",
    "                            adapting_rate=epsilon, print_cost=False, targeted=False).T"
   ]
  },
  {
   "cell_type": "code",
   "execution_count": 173,
   "metadata": {},
   "outputs": [],
   "source": [
    "cls_dp.n_expected_scores = 10"
   ]
  },
  {
   "cell_type": "code",
   "execution_count": 177,
   "metadata": {},
   "outputs": [
    {
     "data": {
      "text/plain": [
       "52"
      ]
     },
     "execution_count": 177,
     "metadata": {},
     "output_type": "execute_result"
    }
   ],
   "source": [
    "np.sum(cls_dp.predict(x_adv).reshape((len(X_test_c), 1)) != Y_test_c)"
   ]
  },
  {
   "cell_type": "code",
   "execution_count": 164,
   "metadata": {},
   "outputs": [
    {
     "data": {
      "text/plain": [
       "0.08717640113425258"
      ]
     },
     "execution_count": 164,
     "metadata": {},
     "output_type": "execute_result"
    }
   ],
   "source": [
    "np.sum(L2_norm(x_adv-X_test_c, 1))/len(X_test_c)"
   ]
  },
  {
   "cell_type": "code",
   "execution_count": 48,
   "metadata": {},
   "outputs": [
    {
     "data": {
      "text/plain": [
       "(100, 1)"
      ]
     },
     "execution_count": 48,
     "metadata": {},
     "output_type": "execute_result"
    }
   ],
   "source": [
    "Y_test_c.shape"
   ]
  },
  {
   "cell_type": "code",
   "execution_count": null,
   "metadata": {},
   "outputs": [],
   "source": [
    "def get_insights_dp(classifier, epsilons, X_test_c, Y_test_c, max_iterations=1000, ignore_not_adversarial=False, show_progress=True):\n",
    "  attack = Attack(classifier)\n",
    "\n",
    "  df = pd.DataFrame(\n",
    "      columns=['target', 'successful attempts', 'epsilon'])  # 'initial',\n",
    "  non_targeted = pd.DataFrame(\n",
    "      columns=['original', 'prediction', 'iterations', 'epsilon', 'L2 norm'])\n",
    "\n",
    "  Y_hat_c = classifier.predict(X_test_c)\n",
    "\n",
    "  tick = time.time()\n",
    "  # np.arange(50)/255:#, 3/255, 5/255, 10/255, 15/255, 30/255, 50/255, 80/255, 120/255]:#[1/255]:#0.007, 0.01, 0.05, 0.1, 0.2]:\n",
    "  for epsilon in epsilons:\n",
    "    print('epsilon =', epsilon)\n",
    "    total_attempts = 0\n",
    "    total_iter = 0\n",
    "    \n",
    "    x_adv = attack.attack_on_dp(x,\n",
    "                          np.array([[1 if i == y else 0 for i in range(10)]]),\\\n",
    "                          'FGSM',\\\n",
    "                          max_iterations,\\\n",
    "                          adapting_rate=epsilon, print_cost=False, targeted=False).T[0]\n",
    "\n",
    "    prediction = classifier.predict(x_adv)\n",
    "    \n",
    "\n",
    "    non_targeted = non_targeted.append({'original': y[0], 'prediction': prediction,\n",
    "                                        'iterations': attack.iter, 'L2 norm': L2_norm(x[0]-x_adv),\n",
    "                                        'epsilon': epsilon}, ignore_index=True)\n",
    "\n",
    "    y_hat_adv.append(prediction)\n",
    "\n",
    "      if(show_progress and total_attempts % (X_test_c.shape[0]//10) == 0):\n",
    "        print(total_attempts, 'instances,', len(adversarial), 'adversaries')\n",
    "\n",
    "    print(total_attempts, 'instances,', len(adversarial), 'adversaries')\n",
    "\n",
    "    print('------------------------------')\n",
    "    #print('------------------------------',example.shape)\n",
    "    #Y_hat = classifier.predict(example).reshape(true_label.shape)\n",
    "\n",
    "    #print((Y_hat == target).shape)\n",
    "    #print((Y_hat != Y_test) * (Y_hat == target) * ((cls.predict(X_test)==Y_test).reshape(Y_hat.shape)))\n",
    "\n",
    "    successful_attempts = len(adversarial)  # np.sum(\n",
    "    #  (Y_hat != true_label)\n",
    "    #  * (Y_hat == target))\n",
    "    #* (true_label == cls.predict(X_test_c).reshape(true_label.shape)))\n",
    "\n",
    "    df = df.append({'successful attempts': successful_attempts,\n",
    "                    'epsilon': epsilon}, ignore_index=True)\n",
    "\n",
    "  print('total time:', time.time() - tick)\n",
    "  print('total iter:', total_iter)\n",
    "  return df, non_targeted, initial, adversarial, example\n"
   ]
  },
  {
   "cell_type": "code",
   "execution_count": 24,
   "metadata": {},
   "outputs": [],
   "source": [
    "test_epsilon = [10/255]\n",
    "#test_epsilon = [1/255, 3/255, 5/255, 10/255, 15/255, 30/255, 50/255, 80/255, 120/255]\n",
    "ignore_not_adversarial = False"
   ]
  },
  {
   "cell_type": "code",
   "execution_count": 25,
   "metadata": {},
   "outputs": [
    {
     "name": "stdout",
     "output_type": "stream",
     "text": [
      "epsilon = 0.0392156862745098\n",
      "10 instances, 7 adversaries\n",
      "20 instances, 14 adversaries\n",
      "30 instances, 21 adversaries\n",
      "40 instances, 26 adversaries\n",
      "50 instances, 33 adversaries\n",
      "60 instances, 41 adversaries\n",
      "70 instances, 48 adversaries\n",
      "80 instances, 57 adversaries\n",
      "90 instances, 65 adversaries\n",
      "100 instances, 72 adversaries\n",
      "100 instances, 72 adversaries\n",
      "------------------------------\n",
      "total time: 20.10461163520813\n",
      "total iter: 243\n"
     ]
    },
    {
     "data": {
      "text/html": [
       "<div>\n",
       "<style scoped>\n",
       "    .dataframe tbody tr th:only-of-type {\n",
       "        vertical-align: middle;\n",
       "    }\n",
       "\n",
       "    .dataframe tbody tr th {\n",
       "        vertical-align: top;\n",
       "    }\n",
       "\n",
       "    .dataframe thead th {\n",
       "        text-align: right;\n",
       "    }\n",
       "</style>\n",
       "<table border=\"1\" class=\"dataframe\">\n",
       "  <thead>\n",
       "    <tr style=\"text-align: right;\">\n",
       "      <th></th>\n",
       "      <th>target</th>\n",
       "      <th>successful attempts</th>\n",
       "      <th>epsilon</th>\n",
       "    </tr>\n",
       "  </thead>\n",
       "  <tbody>\n",
       "    <tr>\n",
       "      <th>0</th>\n",
       "      <td>NaN</td>\n",
       "      <td>72.0</td>\n",
       "      <td>0.039216</td>\n",
       "    </tr>\n",
       "  </tbody>\n",
       "</table>\n",
       "</div>"
      ],
      "text/plain": [
       "   target  successful attempts   epsilon\n",
       "0     NaN                 72.0  0.039216"
      ]
     },
     "execution_count": 25,
     "metadata": {},
     "output_type": "execute_result"
    }
   ],
   "source": []
  },
  {
   "cell_type": "code",
   "execution_count": 26,
   "metadata": {},
   "outputs": [
    {
     "data": {
      "text/plain": [
       "6.0"
      ]
     },
     "execution_count": 26,
     "metadata": {},
     "output_type": "execute_result"
    }
   ],
   "source": [
    "max(insights_dp['iterations'])"
   ]
  },
  {
   "cell_type": "code",
   "execution_count": 16,
   "metadata": {},
   "outputs": [
    {
     "data": {
      "text/plain": [
       "19"
      ]
     },
     "execution_count": 16,
     "metadata": {},
     "output_type": "execute_result"
    }
   ],
   "source": [
    "np.sum(cls_dp.predict(adversarial_dp) != cls_dp.predict(initial_dp))"
   ]
  },
  {
   "cell_type": "code",
   "execution_count": null,
   "metadata": {},
   "outputs": [],
   "source": []
  },
  {
   "cell_type": "code",
   "execution_count": 17,
   "metadata": {},
   "outputs": [
    {
     "data": {
      "text/plain": [
       "52.0"
      ]
     },
     "execution_count": 17,
     "metadata": {},
     "output_type": "execute_result"
    }
   ],
   "source": [
    "n_iter = max(insights_dp['iterations'])\n",
    "iterations = np.arange(n_iter)\n",
    "n_iter"
   ]
  },
  {
   "cell_type": "code",
   "execution_count": 18,
   "metadata": {},
   "outputs": [],
   "source": [
    "#accuracy = []\n",
    "accuracy_dp = []\n",
    "for i in iterations:\n",
    "  #accuracy.append(1 - sum(insights['iterations']<=i)/insights.shape[0])\n",
    "  accuracy_dp.append(1 - sum(insights_dp['iterations']<=i)/insights_dp.shape[0])"
   ]
  },
  {
   "cell_type": "code",
   "execution_count": 19,
   "metadata": {},
   "outputs": [],
   "source": [
    "#distance = []\n",
    "distance_dp = []\n",
    "ticks = np.linspace(np.min(insights_dp['L2 norm']), np.max(insights_dp['L2 norm']), 100)\n",
    "for i in ticks:\n",
    "  #distance.append(1 - sum(insights['L2 norm']<=i)/insights.shape[0])\n",
    "  distance_dp.append(1 - sum(insights_dp['L2 norm']<=i)/insights_dp.shape[0])"
   ]
  },
  {
   "cell_type": "code",
   "execution_count": 20,
   "metadata": {},
   "outputs": [
    {
     "data": {
      "image/png": "[encoded data removed]",
      "text/plain": [
       "<Figure size 1080x432 with 2 Axes>"
      ]
     },
     "metadata": {
      "needs_background": "light"
     },
     "output_type": "display_data"
    }
   ],
   "source": [
    "def set_axis(ax):\n",
    "  ax.set_axisbelow(True)\n",
    "  ax.grid()\n",
    "  ax.legend()\n",
    "\n",
    "\n",
    "fig, (ax1, ax2) = plt.subplots(1, 2, figsize = (15, 6))\n",
    "\n",
    "#ax1.plot(iterations, accuracy, label='Прообраз')\n",
    "ax1.plot(iterations, accuracy_dp, label='Дистильована модель')\n",
    "ax1.set_xlabel('Кількість ітерацій атаки')\n",
    "ax1.set_ylabel('Точність')\n",
    "set_axis(ax1)\n",
    "\n",
    "#ax2.plot(ticks, distance, label='Прообраз')\n",
    "ax2.plot(ticks, distance_dp, label='Дистильована модель')\n",
    "ax2.set_xlabel('Розмір шуму, $L_2$')\n",
    "set_axis(ax2)\n",
    "\n",
    "plt.savefig(\"images/distAllT.pdf\", bbox_inches = 'tight', pad_inches = 0)"
   ]
  },
  {
   "cell_type": "code",
   "execution_count": null,
   "metadata": {},
   "outputs": [],
   "source": []
  },
  {
   "cell_type": "code",
   "execution_count": null,
   "metadata": {},
   "outputs": [],
   "source": []
  },
  {
   "cell_type": "code",
   "execution_count": null,
   "metadata": {},
   "outputs": [],
   "source": [
    "#save_to_json(cls_dist.parameters, \"nets/pixeldp_nn_300\"+str(T))"
   ]
  },
  {
   "cell_type": "code",
   "execution_count": null,
   "metadata": {},
   "outputs": [],
   "source": []
  }
 ],
 "metadata": {
  "kernelspec": {
   "display_name": "Python 3",
   "language": "python",
   "name": "python3"
  },
  "language_info": {
   "codemirror_mode": {
    "name": "ipython",
    "version": 3
   },
   "file_extension": ".py",
   "mimetype": "text/x-python",
   "name": "python",
   "nbconvert_exporter": "python",
   "pygments_lexer": "ipython3",
   "version": "3.8.2"
  }
 },
 "nbformat": 4,
 "nbformat_minor": 4
}
